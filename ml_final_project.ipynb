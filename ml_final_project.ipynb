{
  "nbformat": 4,
  "nbformat_minor": 0,
  "metadata": {
    "colab": {
      "provenance": [],
      "authorship_tag": "ABX9TyP+OV5RTxwL+9hbA6XceTmZ",
      "include_colab_link": true
    },
    "kernelspec": {
      "name": "python3",
      "display_name": "Python 3"
    },
    "language_info": {
      "name": "python"
    }
  },
  "cells": [
    {
      "cell_type": "markdown",
      "metadata": {
        "id": "view-in-github",
        "colab_type": "text"
      },
      "source": [
        "<a href=\"https://colab.research.google.com/github/marriamaslova/ML_homeworks/blob/main/ml_final_project.ipynb\" target=\"_parent\"><img src=\"https://colab.research.google.com/assets/colab-badge.svg\" alt=\"Open In Colab\"/></a>"
      ]
    },
    {
      "cell_type": "markdown",
      "source": [
        "**Business Understanding**\n",
        "\n",
        "Производится работа над прозаическими текстами фольклорного архива. Для того, чтобы тексты поместить в корпус фольклорных текстов, нужно их сопроводить рядом метатекстовых характеристик. И если, например, время и место сбора идут в комплекте с самим текстом, то про тематическую классификацию, которую также хотят видеть потенциальные пользователи корпуса, так сказать нельзя.\n",
        "\n",
        "Значит, есть 2 пути. Первый - ручная разметка. Для ручной разметки была разработана пока что тестовая и очень простая система тегов, основанная на ключевых словах, выделенных программой анализа текстов. Всего 4 тега: Труд, География, Персоналии, Религия. Они отражают тематическую картину несказочной прозы Среднего Урала. Вариант с ручной разметкой дает гарантированное качество, но потребует человеческих ресурсов и времени.\n",
        "\n",
        "Второй путь - попробовать автоматизировать этот процесс. Однако хороший результат не гарантирован, поскольку внутрення взаимосвязь тем в текстах, которые вручную будут размечены разными тегами, куда сильнее, чем если бы мы делили тексты про медицину, IT и кулинарию. В одном тексте могут встретиться ключевые слова разных групп, но экспертная оценка позволяет достоверно определить тематику.\n",
        "\n",
        "Можно, конечно, было бы обучить классификатор на имеющейся ручной разметке, но я поставила перед собой другую задачу, более исследовательскую. Она состоит в том, чтобы посмотреть на \"восприятие\" текстов компьютером, дав ему возможность провести собственное деление на группы. При таком характере материала получится ли адекватно кластеризовать тексты, будет ли уловлена разница, которую видит человек при ручной разметке? А также попробуем на основании получившихся кластеров выяснить, какие слова считаются ключевыми. Возможно, это расширит список выявленных ранее ключевых слов."
      ],
      "metadata": {
        "id": "XqYA_YiUkFIc"
      }
    },
    {
      "cell_type": "code",
      "execution_count": 1,
      "metadata": {
        "id": "bbCNPrJYe28Z"
      },
      "outputs": [],
      "source": [
        "import pandas as pd\n",
        "import numpy as np"
      ]
    },
    {
      "cell_type": "code",
      "source": [
        "import seaborn as sns\n",
        "import matplotlib.pyplot as plt\n",
        "\n",
        "from gensim.models.doc2vec import Doc2Vec, TaggedDocument"
      ],
      "metadata": {
        "id": "tO0fdg3BKg_b"
      },
      "execution_count": 2,
      "outputs": []
    },
    {
      "cell_type": "code",
      "source": [
        "import nltk\n",
        "nltk.download(\"stopwords\")\n",
        "nltk.download('punkt')\n",
        "from nltk.corpus import stopwords\n",
        "from string import punctuation\n",
        "russian_stopwords = stopwords.words(\"russian\")\n",
        "from nltk.tokenize import word_tokenize, wordpunct_tokenize"
      ],
      "metadata": {
        "id": "JIEZ9f45osLe"
      },
      "execution_count": null,
      "outputs": []
    },
    {
      "cell_type": "markdown",
      "source": [
        "**Data Understanding**\n",
        "\n",
        "Датасет (1048 текстов) имеет следующие компоненты: сами тексты, краткое содержание - колонка 'topic' (досталось мне сразу вместе с текстами от тех, кто их оцифровывал), а также разметка по вышеупомянутым тегам, которую я сделала для выполнения данного проекта (колонка 'tag').\n"
      ],
      "metadata": {
        "id": "TVn5X4kKymNZ"
      }
    },
    {
      "cell_type": "code",
      "source": [
        "dialectdata = pd.read_csv('/content/data.csv')\n",
        "dialectdata.head()"
      ],
      "metadata": {
        "colab": {
          "base_uri": "https://localhost:8080/",
          "height": 206
        },
        "id": "hdxDsUH5e6ol",
        "outputId": "6972b4f1-1fe8-49df-f3b0-6a1efd65f9dd"
      },
      "execution_count": 4,
      "outputs": [
        {
          "output_type": "execute_result",
          "data": {
            "text/plain": [
              "                                                text         tag  \\\n",
              "0  Становая названа потому, что Пугачев проходил ...   география   \n",
              "1  Шарташ раньше называли Кержаками, потому что о...   география   \n",
              "2  Маркова шахта так называется, потому что был т...  персоналии   \n",
              "3  А в гражданскую войну здесь драка была. Белые,...  персоналии   \n",
              "4  Екатеринбург был уже, и здесь сначала село, а ...   география   \n",
              "\n",
              "                                      topic  \n",
              "0                         Название Становая  \n",
              "1  Прозвища: Кержаки, Кишочники и Кулажники  \n",
              "2                             Маркова шахта  \n",
              "3                         Гражданская война  \n",
              "4                             Название улиц  "
            ],
            "text/html": [
              "\n",
              "  <div id=\"df-7e515b00-8096-43c8-ad07-5856159d28b8\">\n",
              "    <div class=\"colab-df-container\">\n",
              "      <div>\n",
              "<style scoped>\n",
              "    .dataframe tbody tr th:only-of-type {\n",
              "        vertical-align: middle;\n",
              "    }\n",
              "\n",
              "    .dataframe tbody tr th {\n",
              "        vertical-align: top;\n",
              "    }\n",
              "\n",
              "    .dataframe thead th {\n",
              "        text-align: right;\n",
              "    }\n",
              "</style>\n",
              "<table border=\"1\" class=\"dataframe\">\n",
              "  <thead>\n",
              "    <tr style=\"text-align: right;\">\n",
              "      <th></th>\n",
              "      <th>text</th>\n",
              "      <th>tag</th>\n",
              "      <th>topic</th>\n",
              "    </tr>\n",
              "  </thead>\n",
              "  <tbody>\n",
              "    <tr>\n",
              "      <th>0</th>\n",
              "      <td>Становая названа потому, что Пугачев проходил ...</td>\n",
              "      <td>география</td>\n",
              "      <td>Название Становая</td>\n",
              "    </tr>\n",
              "    <tr>\n",
              "      <th>1</th>\n",
              "      <td>Шарташ раньше называли Кержаками, потому что о...</td>\n",
              "      <td>география</td>\n",
              "      <td>Прозвища: Кержаки, Кишочники и Кулажники</td>\n",
              "    </tr>\n",
              "    <tr>\n",
              "      <th>2</th>\n",
              "      <td>Маркова шахта так называется, потому что был т...</td>\n",
              "      <td>персоналии</td>\n",
              "      <td>Маркова шахта</td>\n",
              "    </tr>\n",
              "    <tr>\n",
              "      <th>3</th>\n",
              "      <td>А в гражданскую войну здесь драка была. Белые,...</td>\n",
              "      <td>персоналии</td>\n",
              "      <td>Гражданская война</td>\n",
              "    </tr>\n",
              "    <tr>\n",
              "      <th>4</th>\n",
              "      <td>Екатеринбург был уже, и здесь сначала село, а ...</td>\n",
              "      <td>география</td>\n",
              "      <td>Название улиц</td>\n",
              "    </tr>\n",
              "  </tbody>\n",
              "</table>\n",
              "</div>\n",
              "      <button class=\"colab-df-convert\" onclick=\"convertToInteractive('df-7e515b00-8096-43c8-ad07-5856159d28b8')\"\n",
              "              title=\"Convert this dataframe to an interactive table.\"\n",
              "              style=\"display:none;\">\n",
              "        \n",
              "  <svg xmlns=\"http://www.w3.org/2000/svg\" height=\"24px\"viewBox=\"0 0 24 24\"\n",
              "       width=\"24px\">\n",
              "    <path d=\"M0 0h24v24H0V0z\" fill=\"none\"/>\n",
              "    <path d=\"M18.56 5.44l.94 2.06.94-2.06 2.06-.94-2.06-.94-.94-2.06-.94 2.06-2.06.94zm-11 1L8.5 8.5l.94-2.06 2.06-.94-2.06-.94L8.5 2.5l-.94 2.06-2.06.94zm10 10l.94 2.06.94-2.06 2.06-.94-2.06-.94-.94-2.06-.94 2.06-2.06.94z\"/><path d=\"M17.41 7.96l-1.37-1.37c-.4-.4-.92-.59-1.43-.59-.52 0-1.04.2-1.43.59L10.3 9.45l-7.72 7.72c-.78.78-.78 2.05 0 2.83L4 21.41c.39.39.9.59 1.41.59.51 0 1.02-.2 1.41-.59l7.78-7.78 2.81-2.81c.8-.78.8-2.07 0-2.86zM5.41 20L4 18.59l7.72-7.72 1.47 1.35L5.41 20z\"/>\n",
              "  </svg>\n",
              "      </button>\n",
              "      \n",
              "  <style>\n",
              "    .colab-df-container {\n",
              "      display:flex;\n",
              "      flex-wrap:wrap;\n",
              "      gap: 12px;\n",
              "    }\n",
              "\n",
              "    .colab-df-convert {\n",
              "      background-color: #E8F0FE;\n",
              "      border: none;\n",
              "      border-radius: 50%;\n",
              "      cursor: pointer;\n",
              "      display: none;\n",
              "      fill: #1967D2;\n",
              "      height: 32px;\n",
              "      padding: 0 0 0 0;\n",
              "      width: 32px;\n",
              "    }\n",
              "\n",
              "    .colab-df-convert:hover {\n",
              "      background-color: #E2EBFA;\n",
              "      box-shadow: 0px 1px 2px rgba(60, 64, 67, 0.3), 0px 1px 3px 1px rgba(60, 64, 67, 0.15);\n",
              "      fill: #174EA6;\n",
              "    }\n",
              "\n",
              "    [theme=dark] .colab-df-convert {\n",
              "      background-color: #3B4455;\n",
              "      fill: #D2E3FC;\n",
              "    }\n",
              "\n",
              "    [theme=dark] .colab-df-convert:hover {\n",
              "      background-color: #434B5C;\n",
              "      box-shadow: 0px 1px 3px 1px rgba(0, 0, 0, 0.15);\n",
              "      filter: drop-shadow(0px 1px 2px rgba(0, 0, 0, 0.3));\n",
              "      fill: #FFFFFF;\n",
              "    }\n",
              "  </style>\n",
              "\n",
              "      <script>\n",
              "        const buttonEl =\n",
              "          document.querySelector('#df-7e515b00-8096-43c8-ad07-5856159d28b8 button.colab-df-convert');\n",
              "        buttonEl.style.display =\n",
              "          google.colab.kernel.accessAllowed ? 'block' : 'none';\n",
              "\n",
              "        async function convertToInteractive(key) {\n",
              "          const element = document.querySelector('#df-7e515b00-8096-43c8-ad07-5856159d28b8');\n",
              "          const dataTable =\n",
              "            await google.colab.kernel.invokeFunction('convertToInteractive',\n",
              "                                                     [key], {});\n",
              "          if (!dataTable) return;\n",
              "\n",
              "          const docLinkHtml = 'Like what you see? Visit the ' +\n",
              "            '<a target=\"_blank\" href=https://colab.research.google.com/notebooks/data_table.ipynb>data table notebook</a>'\n",
              "            + ' to learn more about interactive tables.';\n",
              "          element.innerHTML = '';\n",
              "          dataTable['output_type'] = 'display_data';\n",
              "          await google.colab.output.renderOutput(dataTable, element);\n",
              "          const docLink = document.createElement('div');\n",
              "          docLink.innerHTML = docLinkHtml;\n",
              "          element.appendChild(docLink);\n",
              "        }\n",
              "      </script>\n",
              "    </div>\n",
              "  </div>\n",
              "  "
            ]
          },
          "metadata": {},
          "execution_count": 4
        }
      ]
    },
    {
      "cell_type": "markdown",
      "source": [
        "Тексты в колонке 'text' довольно разные по объему. Продемонстрирую это:"
      ],
      "metadata": {
        "id": "VAvoI13sP8CY"
      }
    },
    {
      "cell_type": "code",
      "source": [
        "dialectdata.text.str.len().min()"
      ],
      "metadata": {
        "colab": {
          "base_uri": "https://localhost:8080/"
        },
        "id": "K-rUfeq5QFxo",
        "outputId": "8c5150bf-d63c-4a1d-dd1e-ab2a3e7a2c45"
      },
      "execution_count": 5,
      "outputs": [
        {
          "output_type": "execute_result",
          "data": {
            "text/plain": [
              "21"
            ]
          },
          "metadata": {},
          "execution_count": 5
        }
      ]
    },
    {
      "cell_type": "code",
      "source": [
        "dialectdata.text.str.len().max()"
      ],
      "metadata": {
        "colab": {
          "base_uri": "https://localhost:8080/"
        },
        "id": "G5Ky39XTQ2Uy",
        "outputId": "53638493-ef46-439b-e4a0-a015f94cbcb1"
      },
      "execution_count": 6,
      "outputs": [
        {
          "output_type": "execute_result",
          "data": {
            "text/plain": [
              "3437"
            ]
          },
          "metadata": {},
          "execution_count": 6
        }
      ]
    },
    {
      "cell_type": "code",
      "source": [
        "dialectdata.text.str.len().mean()"
      ],
      "metadata": {
        "colab": {
          "base_uri": "https://localhost:8080/"
        },
        "id": "AYCJnZrWQ4D8",
        "outputId": "542a73b6-136f-47b6-a895-b3644bb5adf5"
      },
      "execution_count": 7,
      "outputs": [
        {
          "output_type": "execute_result",
          "data": {
            "text/plain": [
              "278.59446564885496"
            ]
          },
          "metadata": {},
          "execution_count": 7
        }
      ]
    },
    {
      "cell_type": "markdown",
      "source": [
        "Мне не пригодилась колонка 'topic'. Я пробовала включить значения из нее в данные для кластеризации, думая, что это улучшит качество, но этого не произошло. И все же было важнее кластеризовать чистый текстовый материал.\n",
        "\n",
        "Но все же для характеристики данных приведу имеющиеся в 'topic' значения."
      ],
      "metadata": {
        "id": "NcbwFIgfP05Q"
      }
    },
    {
      "cell_type": "code",
      "source": [
        "dialectdata.topic.unique()"
      ],
      "metadata": {
        "colab": {
          "base_uri": "https://localhost:8080/"
        },
        "id": "EaXlbiWnjT0f",
        "outputId": "2c5a3f02-f9d4-4c39-9f49-d58af66f3edf"
      },
      "execution_count": 8,
      "outputs": [
        {
          "output_type": "execute_result",
          "data": {
            "text/plain": [
              "array(['Название Становая', 'Прозвища: Кержаки, Кишочники и Кулажники',\n",
              "       'Маркова шахта', 'Гражданская война', 'Название улиц',\n",
              "       'Как я машину увидела', 'Как в шахте работают', 'Две шахты бывает',\n",
              "       'Как золото собирали', 'Как мы работали',\n",
              "       'На Марковой шахте заключенные работали',\n",
              "       'Как я попала в Маркову шахту', nan, 'Пленные здесь были ',\n",
              "       'Как Колчак наступал', 'Как наши ребята золотинку нашли',\n",
              "       'Почему Березовским назвали', 'Город Свердловск',\n",
              "       'Как меня сватали', 'Кержаки после других пить не станут',\n",
              "       'Березовский завод', 'В школу меня отдавать не стали',\n",
              "       'Как я на торфянике работала', 'В пасху не работали',\n",
              "       'Работа в праздник', 'Много старателей было',\n",
              "       'Как мы руду принимали', 'В няньках жила после школы',\n",
              "       'Как я в няньках жила', 'Как мы без часов жили',\n",
              "       'Было четыре школы', 'Как моя сестра работала в няньках',\n",
              "       'Ссыльный народ, как жили', 'Наша семья', 'Рогдай и Мария',\n",
              "       'Первое золото', 'Много золото мыли', 'Мимо белых нас гнали',\n",
              "       'Как мы с тятей на трофянике спрятались',\n",
              "       'Как мы от красных бежали', 'Как мы с тятей золото мыли',\n",
              "       'Ольга Николаевна Романова', 'Разбитый бюст Петра Великого',\n",
              "       'Брусницын золото нашел', 'Ерофей Марков нашел золото',\n",
              "       'Березовский строиться начал, когда золото нашли',\n",
              "       'Ермак проходил здесь', 'В годы Гражданской войны многих замучали',\n",
              "       'До революции в Березовске была ставка',\n",
              "       'Раньше Березовский был ссыльный город',\n",
              "       'Березовский был золотопромышленный город',\n",
              "       'Замуж по отцовской воле вышла', 'Женщины работали бурильщицами',\n",
              "       'Как золото добывали', 'Как ребята инструменты нашли', 'Ермак',\n",
              "       'Воротников', 'Низменна шахта', 'Как мы по рыжики пошли',\n",
              "       'Как Зверева расстреливали', 'Комаровская шахта',\n",
              "       'Почему старателями звали', 'Драки деревня на деревню',\n",
              "       'Богатство на нашей улице', 'Партизаны у нас работали',\n",
              "       'Маркина золото показала', 'Партизаны', 'Золотари Масмеяновы',\n",
              "       'Как мужик подкопал под туалет',\n",
              "       'Почему улица Трапезниковой называлась', 'Счастье найти золотину',\n",
              "       'Бурили раньше всухую', 'Работали строительскими бригадами',\n",
              "       'Как молодые работали', 'В шахте лошади работали',\n",
              "       'Женщин из шахт уволили', 'Работать в шахте было тяжело',\n",
              "       'Что было в шахте', 'Работа в парах', 'Разработка теперь другая',\n",
              "       'Розыгрыши над молодыми', 'Молодые неопытные',\n",
              "       'Серебряковская шахта', 'Большой самородок', 'Бедные дворы',\n",
              "       'Как работали в шахтах', 'Как мыли золото',\n",
              "       'Дом в выработки провалился', 'Отец Лиды',\n",
              "       'Женщины работали на квартовании', 'Шахтеры ни во что не верили',\n",
              "       'После запальщиков оставалось много газов',\n",
              "       'Как тяжелый воздух проверяли', 'Когда Старопышминск образовался',\n",
              "       'Золото скупали раньше в конторе', 'Находка золотого самородка',\n",
              "       'Частные артели старателей', 'Как в шахту подпол ушел',\n",
              "       'Золото называли «тараканами»', 'Разбили глыбы-нашли золото',\n",
              "       'Самородное золото-«тараканы»',\n",
              "       'Как я работал на шахте в Нижней Салде', 'Разное золото добывали',\n",
              "       'Как жилку выбирали', 'Чем болели',\n",
              "       'Как разыгрывали молодых в шахте', 'Гроза',\n",
              "       'Как мы на нашей улице золото нашли', 'Как город образовался',\n",
              "       'Сухолотская', 'Власть в городе', 'Чехи в Березовском',\n",
              "       'Старатели работали в шахте, женщины нет',\n",
              "       'Как мы патроны красным таскали', 'Фонтан в центре Екатеринбурга',\n",
              "       'Управляющий Асташев', 'Как декабристов вели в Сибирь',\n",
              "       'Как учителя мне помогали', 'Как меня увидели в школьной форме',\n",
              "       'Как я на квартире у хозяйки жила', 'Кварцевая пыль',\n",
              "       '«Долой стыд»', 'Как меня лошадь сбила', 'Березовский рудник',\n",
              "       'Откуда город пошел', 'Староверы город Береовском назвали',\n",
              "       'Как советская власть устанавливалась', 'Город Березовск',\n",
              "       'Как Ерофей золото нашел', 'Как рудники возникли',\n",
              "       'Улицы Березовска', 'Как золото мыли', 'Хлеб-соль',\n",
              "       'Как первое золото нашли', 'Как Харитонов пытался Аленой овладеть',\n",
              "       'Самый большой слиток золота', 'Золоченая крыша',\n",
              "       'Нельзя свистеть в шахте', 'Как Харитонов пытался Еленой овладеть',\n",
              "       'Штейгер', 'Производство', 'Ерофей Марков',\n",
              "       'Памятник «Непокоренный»', 'Пышминцы-кулажники', 'Моя бабушка',\n",
              "       'Мать моя-подпольщица', 'Забродин Илья Яковлевич', 'Нюшина буска',\n",
              "       'Мама работала в шахте', 'Улицы в Березовском', 'Улица Пеньковка',\n",
              "       'Улица Горушки', 'Улица Новая', 'Улица Набережная',\n",
              "       'Улица Церковная', 'Улица Конторная', 'Партизан Загвозкин',\n",
              "       'Речка Шиловка', 'Ключевой пруд', 'Золотопромышленный город',\n",
              "       'Бургановский ключ', 'Речка Мочаловка', 'Речка Березовка',\n",
              "       'Речка Мурзинка', 'Александровский пруд', 'Шиловка',\n",
              "       'Как старатели мыли песок', 'Золотари в Березовске',\n",
              "       'Марков золото нашел', 'Старательский поселок', 'Угор',\n",
              "       'Золото в конюшне', 'Пруд', 'Своя жила', 'Прадед моего мужа',\n",
              "       'Как промерзлую землю заставляли оттаивать', 'Как я девушку любил',\n",
              "       'Первый председатель', 'Восстание', 'Почему Березовск так назвали',\n",
              "       'Восстановление церкви', 'Почему «хохлы»?', 'О создании колхоза',\n",
              "       'Местные фабриканты и торговцы; гражданская война',\n",
              "       'Воспоминания Степана Курицына',\n",
              "       'Происхождение собственной фамилии - Курицын',\n",
              "       'Пересказ предания о Ермаке, воспоминания о гражданской войне',\n",
              "       'Про Ермака', 'Организация колхозов', 'Про бедную жизнь',\n",
              "       'О гражданской войне', 'Пугачев в Долматове',\n",
              "       'О том, как раньше все по-другому было',\n",
              "       'О портретах Маркса и Энгельса вместо икон',\n",
              "       'Эмине, первая национальная поэтесса', 'Богатырь Чемень',\n",
              "       'Киремет', 'Масленица (Шеварни)', 'Проводы в армию',\n",
              "       'Про гору и руду', 'Как стоили печи',\n",
              "       'Крест, который не могли спилить.', 'Дом - Толстой',\n",
              "       'Гора Благодать', 'Демидов-заводчик',\n",
              "       'Солдат. Который 10 лет служил', 'Голенище, полное золота',\n",
              "       'Гора, где была руда', 'Руда', 'Офицер Киселев.', 'Ковчег',\n",
              "       'Мельникова Горка', 'Лысая горка', 'Казенный завод',\n",
              "       'Первая узколинейная дорога.', 'Киржаки', 'Вогулы охотники.',\n",
              "       'Вогулы', 'О Татищеве', 'О Демидове', 'Богомольский рудник',\n",
              "       'О Чумпине', 'О Вогулах', 'Об Ушакове', 'О Гришке Распутине',\n",
              "       'О Распутине', 'О Мельмане', 'О Вогулах и Киржаках', 'О Ермаке',\n",
              "       'О горе Благодать', 'О Мороховской шайке',\n",
              "       'О разбойнике Некрасове',\n",
              "       'О происхождении названий «Матыльевский просек» и «Герцогский просек»',\n",
              "       'Как проезжал Никита Демидович и как молились в заводе.',\n",
              "       'О скитальцах', 'О мемориальной доске, посвящённой походу Ермака',\n",
              "       'Как раньше жили',\n",
              "       'Почему посёлок называется «Лая» и откуда в нём украинцы',\n",
              "       'О Ермаке и р. Медведке', 'Откуда пошло название р. Винновка',\n",
              "       'Ермак и р.Лайка', 'О разных верах',\n",
              "       'Откуда в Большой Лае украинцы',\n",
              "       'Матыльевский и Герцогский просек, Кириковский лог',\n",
              "       'О названии Лая', 'О появлении Мотыльевского просека',\n",
              "       'Американцы на р.Винновке', 'Как молились', 'О старателях',\n",
              "       'Основатели Б.Лаи', 'Происхождение названия и население',\n",
              "       'Вера Б.Лаи', 'Происхождение названия и про завод',\n",
              "       'Как Демидова одели', 'Название Лая от татар, про больных',\n",
              "       'Биографии информантов', 'Про хохлов',\n",
              "       'О доме, в котором жил Бажов',\n",
              "       'О происхождении топонима Самоцветы', 'Про колесование в Кунаре',\n",
              "       'Про ключ-родник, ушедший из-за установки драги',\n",
              "       'О названии горы Зубово', 'Как раньше искали утопших',\n",
              "       'О заговорах', 'О колдуне', 'О Бажове',\n",
              "       'О церкви, снесенной в революцию',\n",
              "       'О свободе от “власти” Демидовых',\n",
              "       'О названиях о-вов на Аятском озере.\\nО Молебных о-вах, Малом и Большом, на к-х скрывались не желавшие присоединяться к белым и красным.',\n",
              "       'Об о-ве Святом',\n",
              "       'О названии села Пьянково.\\nРаньше село называлась Шалаши/Шалаш.',\n",
              "       'Другая версия происхождения названия села',\n",
              "       'О фамилиях.\\nПервые поселенцы – Севрюгины.', 'О ВОВ',\n",
              "       'О Березовом заиме', 'О Пановской ляге', 'Как добывали золото',\n",
              "       'О церкови', 'О спрятанном золоте кулаков “Епифанычей”',\n",
              "       'О кулачке Новоселовой, зашившей все золото в ветхую шубейку',\n",
              "       'О том, как в золоте недостатка не было', 'Как церковь ломали',\n",
              "       'О кулаке Епифаныче и золотодобыче',\n",
              "       'О купце Вандышеве и его памятнике', 'Об улице Ерзовке',\n",
              "       'О разрушенной церкви Троицы и волости с пожарной частью',\n",
              "       'О гражданской войне, 1919 год',\n",
              "       'О том, какой раньше была Шайдуриха', 'О сломанной церкви',\n",
              "       'О Молебных о-вах', 'О Епифанычах',\n",
              "       'О Торгах, где продавали имущество раскулаченных',\n",
              "       'Как раскулачивали семью информанта',\n",
              "       'Воспоминание о гражданской войне',\n",
              "       'Как семью информанта хотели раскулачить, но прошение от соседей спасло их',\n",
              "       'Как было есть нечего', 'Про налет красноармейцев',\n",
              "       'Как во время НЭПа отец инф-та обрабатывал кожи и таким образом зарабатывал',\n",
              "       'О дедушке, к-й был богатым кузнецом и зарабатывал изготовлением сошняков',\n",
              "       'О названии Шайдурихи, плотине и археологических находках на о-ве Красном',\n",
              "       'О названии Шайдурихи', 'О золотодобыче', 'О Колчаке',\n",
              "       'О прадедушке и выработке овчины', 'Про прозвища',\n",
              "       'Воспоминания о жизни', 'О колдунье', 'О ключе Планиды',\n",
              "       'История рода', 'О моей жизни', 'О прадеде', 'О сильных людях',\n",
              "       'О токарях', 'О том, как работали в семье прадеда',\n",
              "       'О рабочих Демидова', 'Шунут', 'О Платониде',\n",
              "       'О кладбищах и о заводе', 'О названии \"Серги\"', 'О деревне Шамага',\n",
              "       'Об озере на горе Шунут', 'О татарской девушке',\n",
              "       'Шунутский камень', 'О деревне Половинка', 'Бурлацкий камень',\n",
              "       'Об Осиновой и Волжской улицах', 'Камень Шунут',\n",
              "       'Камень Бурлацкий', 'О гамаюнах', 'Как называли атигских жителей',\n",
              "       'Про Атиг, атигских жителей', 'Гамаюны', 'Об Атиге',\n",
              "       'О трех уличных фамилиях', 'О зобонах', 'Об атигских', 'О говорах',\n",
              "       'Про русских князей', 'Новогодний случай',\n",
              "       'Про то, как мужик спьяну решил, что он в гробу оказался',\n",
              "       'О том, как жена мужика «не признала» композитора',\n",
              "       'О том, как мужик с белой горячкой слег и не мог попасть домой',\n",
              "       'Как мужик клал печку одной жадной старушке', 'Название Салда',\n",
              "       'Работа машинистом и встреча с Орджоникидзе', 'Демидов',\n",
              "       'Киржанская церковь', 'Первый паровоз', 'Клуб', 'Артисты',\n",
              "       'Работа на заводе и встреча с Орджоникидзе', 'Районы Салды',\n",
              "       'Миллионы', 'Дпемидов', 'Предание о заселении города Салда',\n",
              "       'Предание о Салде во времена Гражданской войны',\n",
              "       'Предание о боях в Салде', 'Воспоминание о церкви в родном селе',\n",
              "       'Предание о вероисповедании кержаков', 'О Стеньке Разине',\n",
              "       'О Пугачеве', 'Предание (О заселении Сибири русскими)',\n",
              "       'О Крюкове', '«Изба рублена на месте»',\n",
              "       'Предание (Про Ленина и Сталина)', 'О Ленине',\n",
              "       'Предание (про белых)', 'Про Гражданскую войну и про Революцию',\n",
              "       'Из Гражданской войны', 'Александра Васильевна',\n",
              "       'Про заселение Сибири', 'Изба рублена на месте.', 'Пашка Ермак',\n",
              "       'Предание о Ермаке', 'О Разине', 'О Чанове', 'О Пушкине',\n",
              "       'О Григории Боровских', 'О Гигории Боровских', 'Об Анжеле Дэвис',\n",
              "       'Про Анжелу Дэвис', 'Анжела Дэвис', 'Журавлята',\n",
              "       'Вастушкин бродок', 'Сиринский колодец', 'Мертвая дорога',\n",
              "       'Безродный', 'Полеково', 'р. Овинная', 'р. Голая',\n",
              "       'Касьянов полок', 'Никулин бродок', 'Евсин лог', 'Гоолая речка',\n",
              "       'Коловая речка', 'Квашнино', 'Михайловка', 'Шилята', 'Солодилово',\n",
              "       'Галкино', 'Белый лог', 'Королевский лог', 'Чистое болото',\n",
              "       'Тетерино', 'Колка', 'Березник', 'Свиной угол', 'Крута',\n",
              "       'Медвежий колок', 'Низи', 'Куровка', 'р. Темная', 'д. Квашнино',\n",
              "       'д. Михайловка', 'д. Пульникова', 'д. Кочнево', 'Королев лог',\n",
              "       'Красивята', 'Зуй Болотный', 'Ячмень Колючий', 'Куропатка',\n",
              "       'Назарята', 'Баран', 'Сиринята', 'Сюдкин', 'Красная казарма',\n",
              "       'Низяк', 'Бало', 'Горшки', 'Клеш', 'Турка', 'Корелы', 'Русята',\n",
              "       'Про ссыльных', 'Зуй Болотный и Козел', 'Гусь', 'Журавль',\n",
              "       'Корепы', 'Евсеин лог', 'Андрюшкин лог', 'р. Осиновка',\n",
              "       'р. Коловая', 'Семино болото', 'Поповщина', 'Микулин бродок',\n",
              "       'Редка', 'Луково горе', 'Камышлов', 'Речка Туровка', 'р. Крутые',\n",
              "       'р. Ольховка', 'р. Ржавец', 'Сучий дровосек', 'Ефремов покос',\n",
              "       'Песочные ямы', 'Малинята', 'Макарята', 'Митрошиха', 'Курашов лог',\n",
              "       'Милешенков лог', 'Одному надоело в городе жить…', 'Маслята',\n",
              "       'Сиринский колок', 'Борин лог', 'Ваганов лог', 'Шуровка',\n",
              "       'Медвежонки', 'Ворона', 'Хомяк', 'Монастырский лог', 'Казаков лог',\n",
              "       'Касьянов колок.', 'Куракин', 'Коренной', 'Красивяцкий край',\n",
              "       'р. Туровка', 'Журавлевщина', 'р. Жимоловская', 'Сиринский лог',\n",
              "       'О д. Кочнево', 'О г. Камышлове', 'О д. Калиновке', 'О д. Куровке',\n",
              "       'О д. Скате', 'О д. Пульниково', 'р. Камышловка', 'Белый Яр',\n",
              "       'Лог Падун', 'Семушкина поскотина', 'Бассейка.',\n",
              "       'О приметах на золото', 'О змеях', 'О золотых огоньках'],\n",
              "      dtype=object)"
            ]
          },
          "metadata": {},
          "execution_count": 8
        }
      ]
    },
    {
      "cell_type": "markdown",
      "source": [
        "А вот что важно, это распределение тегов в разметке (для сравнения с дальнейшей кластеризацией). Как вы видите, одна из категорий представлена больше других, но все же в целом они представлены более-менее сбалансированно."
      ],
      "metadata": {
        "id": "-ggPxhUoP460"
      }
    },
    {
      "cell_type": "code",
      "source": [
        "dialectdata.tag.value_counts(normalize=True)"
      ],
      "metadata": {
        "colab": {
          "base_uri": "https://localhost:8080/"
        },
        "id": "uTB2j0G3H2HR",
        "outputId": "ac04dca8-e7c3-4f60-909e-4d8d9e5ce4c9"
      },
      "execution_count": 9,
      "outputs": [
        {
          "output_type": "execute_result",
          "data": {
            "text/plain": [
              "география     0.348282\n",
              "персоналии    0.248092\n",
              "труд          0.206107\n",
              "религия       0.197519\n",
              "Name: tag, dtype: float64"
            ]
          },
          "metadata": {},
          "execution_count": 9
        }
      ]
    },
    {
      "cell_type": "code",
      "source": [
        "labels = dialectdata.tag.unique()\n",
        "plt.pie(dialectdata.tag.value_counts(normalize=True), labels = labels)\n",
        "plt.show()"
      ],
      "metadata": {
        "colab": {
          "base_uri": "https://localhost:8080/",
          "height": 345
        },
        "id": "Tuit3miXWUSx",
        "outputId": "f8d6409f-8647-4cc4-c66a-b3b312752bbf"
      },
      "execution_count": 60,
      "outputs": [
        {
          "output_type": "display_data",
          "data": {
            "text/plain": [
              "<Figure size 500x400 with 1 Axes>"
            ],
            "image/png": "[encoded data removed]"
          },
          "metadata": {}
        }
      ]
    },
    {
      "cell_type": "markdown",
      "source": [
        "Начнем подготовку данных для кластеризации"
      ],
      "metadata": {
        "id": "iHQRyLEZocdj"
      }
    },
    {
      "cell_type": "code",
      "source": [
        "dialectdata['text_clean'] = dialectdata['text'].map(lambda x: x.lower())"
      ],
      "metadata": {
        "id": "SbYuGTPnoVZ3"
      },
      "execution_count": 10,
      "outputs": []
    },
    {
      "cell_type": "code",
      "source": [
        "dialectdata['text_clean'] = dialectdata['text_clean'].map(lambda x: word_tokenize(x))"
      ],
      "metadata": {
        "id": "eNFnDNp4pZhb"
      },
      "execution_count": 11,
      "outputs": []
    },
    {
      "cell_type": "code",
      "source": [
        "for text in dialectdata['text_clean']:\n",
        "  for elem in text:\n",
        "    if elem.isalnum():\n",
        "      continue\n",
        "    else:\n",
        "      text.remove(elem)"
      ],
      "metadata": {
        "id": "wMnYzZbIo7bj"
      },
      "execution_count": 14,
      "outputs": []
    },
    {
      "cell_type": "code",
      "source": [
        "for text in dialectdata['text_clean']:\n",
        "  for elem in text:\n",
        "    if elem in russian_stopwords:\n",
        "      text.remove(elem)\n",
        "    else:\n",
        "      continue"
      ],
      "metadata": {
        "id": "ZQffbUT2qFzh"
      },
      "execution_count": 17,
      "outputs": []
    },
    {
      "cell_type": "markdown",
      "source": [
        "Векторизация текстовых данных"
      ],
      "metadata": {
        "id": "TjBplK8L48wr"
      }
    },
    {
      "cell_type": "markdown",
      "source": [
        "Поле text_clean"
      ],
      "metadata": {
        "id": "gQBppAvA5Ck9"
      }
    },
    {
      "cell_type": "code",
      "source": [
        "input_text = list(dialectdata.text_clean.values)\n",
        "documents = [TaggedDocument(doc, [i]) for i, doc in enumerate(input_text)]"
      ],
      "metadata": {
        "id": "MgO3Y-OEL1gs"
      },
      "execution_count": 18,
      "outputs": []
    },
    {
      "cell_type": "code",
      "source": [
        "model = Doc2Vec(documents, vector_size=5, window=3, min_count=1, workers=4)"
      ],
      "metadata": {
        "id": "z4HAIOlwVHH9"
      },
      "execution_count": 19,
      "outputs": []
    },
    {
      "cell_type": "code",
      "source": [
        "model.save(\"text_clean.model\")"
      ],
      "metadata": {
        "id": "qkyYAoKeVHFd"
      },
      "execution_count": 20,
      "outputs": []
    },
    {
      "cell_type": "code",
      "source": [
        "vectors = []\n",
        "for x in documents:\n",
        "    vec = list(model[x.tags][0])\n",
        "    vectors.append(vec)"
      ],
      "metadata": {
        "id": "3SXiA2REVHDC"
      },
      "execution_count": 21,
      "outputs": []
    },
    {
      "cell_type": "code",
      "source": [
        "tc_vec = pd.DataFrame(vectors,\n",
        "                        columns=['tc1', 'tc2', 'tc3','tc4','tc5'])"
      ],
      "metadata": {
        "id": "lUc_JzrKVHAu"
      },
      "execution_count": 22,
      "outputs": []
    },
    {
      "cell_type": "code",
      "source": [
        "dialectdata = dialectdata.join(tc_vec, how='left')"
      ],
      "metadata": {
        "id": "Ncz28-2KVG-E"
      },
      "execution_count": 23,
      "outputs": []
    },
    {
      "cell_type": "code",
      "source": [
        "dialectdata.head()"
      ],
      "metadata": {
        "colab": {
          "base_uri": "https://localhost:8080/",
          "height": 206
        },
        "id": "2iusJYRAVGWi",
        "outputId": "afe0e067-09be-4d87-dfb4-13cdb6c4da2b"
      },
      "execution_count": 24,
      "outputs": [
        {
          "output_type": "execute_result",
          "data": {
            "text/plain": [
              "                                                text         tag  \\\n",
              "0  Становая названа потому, что Пугачев проходил ...   география   \n",
              "1  Шарташ раньше называли Кержаками, потому что о...   география   \n",
              "2  Маркова шахта так называется, потому что был т...  персоналии   \n",
              "3  А в гражданскую войну здесь драка была. Белые,...  персоналии   \n",
              "4  Екатеринбург был уже, и здесь сначала село, а ...   география   \n",
              "\n",
              "                                      topic  \\\n",
              "0                         Название Становая   \n",
              "1  Прозвища: Кержаки, Кишочники и Кулажники   \n",
              "2                             Маркова шахта   \n",
              "3                         Гражданская война   \n",
              "4                             Название улиц   \n",
              "\n",
              "                                          text_clean       tc1       tc2  \\\n",
              "0  [становая, названа, пугачев, проходил, раненые...  0.378796  0.483187   \n",
              "1  [шарташ, раньше, называли, кержаками, стакана,...  0.117879  0.465774   \n",
              "2  [маркова, шахта, называется, мужчина, марков, ...  0.518486  0.344281   \n",
              "3  [гражданскую, войну, драка, белые, чехи, полуш...  0.246564  0.383574   \n",
              "4  [екатеринбург, сначала, село, завод, берёзовск...  0.436520  0.418929   \n",
              "\n",
              "        tc3       tc4       tc5  \n",
              "0  0.363719 -0.172863 -0.280842  \n",
              "1  0.371351 -0.357066 -0.110989  \n",
              "2  0.115891 -0.108811 -0.162278  \n",
              "3  0.210981 -0.476998 -0.263910  \n",
              "4  0.316760 -0.213040  0.103379  "
            ],
            "text/html": [
              "\n",
              "  <div id=\"df-8ef59628-3222-44f3-9df2-323bccebd52a\">\n",
              "    <div class=\"colab-df-container\">\n",
              "      <div>\n",
              "<style scoped>\n",
              "    .dataframe tbody tr th:only-of-type {\n",
              "        vertical-align: middle;\n",
              "    }\n",
              "\n",
              "    .dataframe tbody tr th {\n",
              "        vertical-align: top;\n",
              "    }\n",
              "\n",
              "    .dataframe thead th {\n",
              "        text-align: right;\n",
              "    }\n",
              "</style>\n",
              "<table border=\"1\" class=\"dataframe\">\n",
              "  <thead>\n",
              "    <tr style=\"text-align: right;\">\n",
              "      <th></th>\n",
              "      <th>text</th>\n",
              "      <th>tag</th>\n",
              "      <th>topic</th>\n",
              "      <th>text_clean</th>\n",
              "      <th>tc1</th>\n",
              "      <th>tc2</th>\n",
              "      <th>tc3</th>\n",
              "      <th>tc4</th>\n",
              "      <th>tc5</th>\n",
              "    </tr>\n",
              "  </thead>\n",
              "  <tbody>\n",
              "    <tr>\n",
              "      <th>0</th>\n",
              "      <td>Становая названа потому, что Пугачев проходил ...</td>\n",
              "      <td>география</td>\n",
              "      <td>Название Становая</td>\n",
              "      <td>[становая, названа, пугачев, проходил, раненые...</td>\n",
              "      <td>0.378796</td>\n",
              "      <td>0.483187</td>\n",
              "      <td>0.363719</td>\n",
              "      <td>-0.172863</td>\n",
              "      <td>-0.280842</td>\n",
              "    </tr>\n",
              "    <tr>\n",
              "      <th>1</th>\n",
              "      <td>Шарташ раньше называли Кержаками, потому что о...</td>\n",
              "      <td>география</td>\n",
              "      <td>Прозвища: Кержаки, Кишочники и Кулажники</td>\n",
              "      <td>[шарташ, раньше, называли, кержаками, стакана,...</td>\n",
              "      <td>0.117879</td>\n",
              "      <td>0.465774</td>\n",
              "      <td>0.371351</td>\n",
              "      <td>-0.357066</td>\n",
              "      <td>-0.110989</td>\n",
              "    </tr>\n",
              "    <tr>\n",
              "      <th>2</th>\n",
              "      <td>Маркова шахта так называется, потому что был т...</td>\n",
              "      <td>персоналии</td>\n",
              "      <td>Маркова шахта</td>\n",
              "      <td>[маркова, шахта, называется, мужчина, марков, ...</td>\n",
              "      <td>0.518486</td>\n",
              "      <td>0.344281</td>\n",
              "      <td>0.115891</td>\n",
              "      <td>-0.108811</td>\n",
              "      <td>-0.162278</td>\n",
              "    </tr>\n",
              "    <tr>\n",
              "      <th>3</th>\n",
              "      <td>А в гражданскую войну здесь драка была. Белые,...</td>\n",
              "      <td>персоналии</td>\n",
              "      <td>Гражданская война</td>\n",
              "      <td>[гражданскую, войну, драка, белые, чехи, полуш...</td>\n",
              "      <td>0.246564</td>\n",
              "      <td>0.383574</td>\n",
              "      <td>0.210981</td>\n",
              "      <td>-0.476998</td>\n",
              "      <td>-0.263910</td>\n",
              "    </tr>\n",
              "    <tr>\n",
              "      <th>4</th>\n",
              "      <td>Екатеринбург был уже, и здесь сначала село, а ...</td>\n",
              "      <td>география</td>\n",
              "      <td>Название улиц</td>\n",
              "      <td>[екатеринбург, сначала, село, завод, берёзовск...</td>\n",
              "      <td>0.436520</td>\n",
              "      <td>0.418929</td>\n",
              "      <td>0.316760</td>\n",
              "      <td>-0.213040</td>\n",
              "      <td>0.103379</td>\n",
              "    </tr>\n",
              "  </tbody>\n",
              "</table>\n",
              "</div>\n",
              "      <button class=\"colab-df-convert\" onclick=\"convertToInteractive('df-8ef59628-3222-44f3-9df2-323bccebd52a')\"\n",
              "              title=\"Convert this dataframe to an interactive table.\"\n",
              "              style=\"display:none;\">\n",
              "        \n",
              "  <svg xmlns=\"http://www.w3.org/2000/svg\" height=\"24px\"viewBox=\"0 0 24 24\"\n",
              "       width=\"24px\">\n",
              "    <path d=\"M0 0h24v24H0V0z\" fill=\"none\"/>\n",
              "    <path d=\"M18.56 5.44l.94 2.06.94-2.06 2.06-.94-2.06-.94-.94-2.06-.94 2.06-2.06.94zm-11 1L8.5 8.5l.94-2.06 2.06-.94-2.06-.94L8.5 2.5l-.94 2.06-2.06.94zm10 10l.94 2.06.94-2.06 2.06-.94-2.06-.94-.94-2.06-.94 2.06-2.06.94z\"/><path d=\"M17.41 7.96l-1.37-1.37c-.4-.4-.92-.59-1.43-.59-.52 0-1.04.2-1.43.59L10.3 9.45l-7.72 7.72c-.78.78-.78 2.05 0 2.83L4 21.41c.39.39.9.59 1.41.59.51 0 1.02-.2 1.41-.59l7.78-7.78 2.81-2.81c.8-.78.8-2.07 0-2.86zM5.41 20L4 18.59l7.72-7.72 1.47 1.35L5.41 20z\"/>\n",
              "  </svg>\n",
              "      </button>\n",
              "      \n",
              "  <style>\n",
              "    .colab-df-container {\n",
              "      display:flex;\n",
              "      flex-wrap:wrap;\n",
              "      gap: 12px;\n",
              "    }\n",
              "\n",
              "    .colab-df-convert {\n",
              "      background-color: #E8F0FE;\n",
              "      border: none;\n",
              "      border-radius: 50%;\n",
              "      cursor: pointer;\n",
              "      display: none;\n",
              "      fill: #1967D2;\n",
              "      height: 32px;\n",
              "      padding: 0 0 0 0;\n",
              "      width: 32px;\n",
              "    }\n",
              "\n",
              "    .colab-df-convert:hover {\n",
              "      background-color: #E2EBFA;\n",
              "      box-shadow: 0px 1px 2px rgba(60, 64, 67, 0.3), 0px 1px 3px 1px rgba(60, 64, 67, 0.15);\n",
              "      fill: #174EA6;\n",
              "    }\n",
              "\n",
              "    [theme=dark] .colab-df-convert {\n",
              "      background-color: #3B4455;\n",
              "      fill: #D2E3FC;\n",
              "    }\n",
              "\n",
              "    [theme=dark] .colab-df-convert:hover {\n",
              "      background-color: #434B5C;\n",
              "      box-shadow: 0px 1px 3px 1px rgba(0, 0, 0, 0.15);\n",
              "      filter: drop-shadow(0px 1px 2px rgba(0, 0, 0, 0.3));\n",
              "      fill: #FFFFFF;\n",
              "    }\n",
              "  </style>\n",
              "\n",
              "      <script>\n",
              "        const buttonEl =\n",
              "          document.querySelector('#df-8ef59628-3222-44f3-9df2-323bccebd52a button.colab-df-convert');\n",
              "        buttonEl.style.display =\n",
              "          google.colab.kernel.accessAllowed ? 'block' : 'none';\n",
              "\n",
              "        async function convertToInteractive(key) {\n",
              "          const element = document.querySelector('#df-8ef59628-3222-44f3-9df2-323bccebd52a');\n",
              "          const dataTable =\n",
              "            await google.colab.kernel.invokeFunction('convertToInteractive',\n",
              "                                                     [key], {});\n",
              "          if (!dataTable) return;\n",
              "\n",
              "          const docLinkHtml = 'Like what you see? Visit the ' +\n",
              "            '<a target=\"_blank\" href=https://colab.research.google.com/notebooks/data_table.ipynb>data table notebook</a>'\n",
              "            + ' to learn more about interactive tables.';\n",
              "          element.innerHTML = '';\n",
              "          dataTable['output_type'] = 'display_data';\n",
              "          await google.colab.output.renderOutput(dataTable, element);\n",
              "          const docLink = document.createElement('div');\n",
              "          docLink.innerHTML = docLinkHtml;\n",
              "          element.appendChild(docLink);\n",
              "        }\n",
              "      </script>\n",
              "    </div>\n",
              "  </div>\n",
              "  "
            ]
          },
          "metadata": {},
          "execution_count": 24
        }
      ]
    },
    {
      "cell_type": "code",
      "source": [
        "dd_final_clust = dialectdata[['tc1', 'tc2', 'tc3','tc4','tc5']]"
      ],
      "metadata": {
        "id": "zEoJtFeXQJNW"
      },
      "execution_count": 25,
      "outputs": []
    },
    {
      "cell_type": "markdown",
      "source": [
        "Кластеризация"
      ],
      "metadata": {
        "id": "T8agdTfbb9Sn"
      }
    },
    {
      "cell_type": "markdown",
      "source": [
        "Подготовка данных"
      ],
      "metadata": {
        "id": "jkHb4wrZi1tr"
      }
    },
    {
      "cell_type": "code",
      "source": [
        "from sklearn import metrics"
      ],
      "metadata": {
        "id": "qWKCgCk_LNVW"
      },
      "execution_count": 26,
      "outputs": []
    },
    {
      "cell_type": "markdown",
      "source": [
        "Нормируем значения параметров, чтобы они определялись на едином промежутке"
      ],
      "metadata": {
        "id": "UMMUOcLHg3zg"
      }
    },
    {
      "cell_type": "code",
      "source": [
        "from sklearn.preprocessing import StandardScaler\n",
        "\n",
        "std_scaler = StandardScaler()\n",
        "data_scaled=dd_final_clust.copy()\n",
        "data_scaled[data_scaled.columns]=std_scaler.fit_transform(data_scaled)"
      ],
      "metadata": {
        "id": "foG9tycWb8uT"
      },
      "execution_count": 27,
      "outputs": []
    },
    {
      "cell_type": "markdown",
      "source": [
        "Метод главных компонент (PCA): в n-мерном датасете найдем две компоненты, вдоль которых существует наибольшая дисперсия данных"
      ],
      "metadata": {
        "id": "sK5QRx_mjqgY"
      }
    },
    {
      "cell_type": "code",
      "source": [
        "from sklearn.decomposition import PCA\n",
        "pca_2 = PCA(2)\n",
        "pca_2_result = pca_2.fit_transform(data_scaled)\n",
        "pca_2_result.shape"
      ],
      "metadata": {
        "id": "qVxnqb_wb8l8",
        "colab": {
          "base_uri": "https://localhost:8080/"
        },
        "outputId": "898b6715-9718-46c5-afe6-0fc68996ffb0"
      },
      "execution_count": 28,
      "outputs": [
        {
          "output_type": "execute_result",
          "data": {
            "text/plain": [
              "(1048, 2)"
            ]
          },
          "metadata": {},
          "execution_count": 28
        }
      ]
    },
    {
      "cell_type": "code",
      "source": [
        "sns.set(rc={'figure.figsize':(9,6)},font_scale=1)\n",
        "\n",
        "plt.scatter(x=pca_2_result[:, 0], y=pca_2_result[:, 1], color='blue')\n",
        "plt.xlabel('PC 1')\n",
        "plt.ylabel('PC 2')\n",
        "\n",
        "plt.title('Распределение данных по двум главным компонентам')\n",
        "plt.show()"
      ],
      "metadata": {
        "id": "EBtDFJXmb8ja",
        "colab": {
          "base_uri": "https://localhost:8080/",
          "height": 573
        },
        "outputId": "e2bc9dd7-66a4-4686-e0ee-67af61adf0df"
      },
      "execution_count": 29,
      "outputs": [
        {
          "output_type": "display_data",
          "data": {
            "text/plain": [
              "<Figure size 900x600 with 1 Axes>"
            ],
            "image/png": "[encoded data removed]"
          },
          "metadata": {}
        }
      ]
    },
    {
      "cell_type": "markdown",
      "source": [
        "Определение оптимального количества кластеров для k-means метода, который мог бы использоваться как бейзлайн, но в итоге оказался основным и единственным адекватным"
      ],
      "metadata": {
        "id": "x30npXxrg70Q"
      }
    },
    {
      "cell_type": "code",
      "source": [
        "from tqdm import tqdm"
      ],
      "metadata": {
        "id": "eM0J8a8DjhSe"
      },
      "execution_count": 30,
      "outputs": []
    },
    {
      "cell_type": "code",
      "source": [
        "import sklearn.cluster as cluster\n",
        "\n",
        "inertia = []\n",
        "for i in tqdm(range(2,20)):\n",
        "\n",
        "    kmeans = cluster.KMeans(\n",
        "               n_clusters=i,\n",
        "               init='k-means++',\n",
        "               n_init=15,\n",
        "               max_iter=500,\n",
        "               random_state=17\n",
        "    )\n",
        "\n",
        "\n",
        "    kmeans.fit(pca_2_result)\n",
        "    inertia.append(kmeans.inertia_)"
      ],
      "metadata": {
        "id": "Xyq5PyLlb8hX",
        "colab": {
          "base_uri": "https://localhost:8080/"
        },
        "outputId": "16717179-d242-4b1c-ca94-b33f4757429d"
      },
      "execution_count": 31,
      "outputs": [
        {
          "output_type": "stream",
          "name": "stderr",
          "text": [
            "100%|██████████| 18/18 [00:01<00:00,  9.83it/s]\n"
          ]
        }
      ]
    },
    {
      "cell_type": "code",
      "source": [
        "from sklearn.metrics import silhouette_score\n",
        "\n",
        "silhouette = {}\n",
        "for i in tqdm(range(2,20)):\n",
        "    kmeans = cluster.KMeans(n_clusters=i,\n",
        "               init='k-means++',\n",
        "               n_init=15,\n",
        "               max_iter=500,\n",
        "               random_state=17)\n",
        "    kmeans.fit(pca_2_result)\n",
        "\n",
        "    silhouette[i] = silhouette_score(pca_2_result, kmeans.labels_, metric='euclidean')"
      ],
      "metadata": {
        "id": "w91S28F1b8ej",
        "colab": {
          "base_uri": "https://localhost:8080/"
        },
        "outputId": "c2b3e698-ecb6-4a81-de86-8ca932b6b0b6"
      },
      "execution_count": 32,
      "outputs": [
        {
          "output_type": "stream",
          "name": "stderr",
          "text": [
            "100%|██████████| 18/18 [00:03<00:00,  5.14it/s]\n"
          ]
        }
      ]
    },
    {
      "cell_type": "code",
      "source": [
        "sns.set(font_scale=1, rc={'figure.figsize':(10,4)})\n",
        "\n",
        "plt.subplot(1, 2, 1)\n",
        "\n",
        "plt.plot(range(2,len(inertia)+2), inertia, marker='x',color='blue')\n",
        "\n",
        "plt.xlabel('Число кластеров')\n",
        "plt.title('K-means Inertia',fontweight='bold')\n",
        "plt.grid(True)\n",
        "\n",
        "plt.subplot(1, 2, 2)\n",
        "\n",
        "plt.bar(range(len(silhouette)), list(silhouette.values()), align='center',color= 'blue')\n",
        "plt.xticks(range(len(silhouette)), list(silhouette.keys()))\n",
        "plt.grid(True)\n",
        "plt.title('Silhouette Score',fontweight='bold')\n",
        "plt.xlabel('Число кластеров')\n",
        "\n",
        "\n",
        "plt.show()"
      ],
      "metadata": {
        "id": "fAMiRYqpb8bs",
        "colab": {
          "base_uri": "https://localhost:8080/",
          "height": 419
        },
        "outputId": "98d8d61b-cd23-490c-d8db-fab2c299997b"
      },
      "execution_count": 33,
      "outputs": [
        {
          "output_type": "display_data",
          "data": {
            "text/plain": [
              "<Figure size 1000x400 with 2 Axes>"
            ],
            "image/png": "[encoded data removed]"
          },
          "metadata": {}
        }
      ]
    },
    {
      "cell_type": "code",
      "source": [
        "kmeans = cluster.KMeans(n_clusters=4,random_state=17,init='k-means++')\n",
        "\n",
        "kmeans_labels = kmeans.fit_predict(pca_2_result)\n",
        "\n",
        "centroids = kmeans.cluster_centers_\n",
        "\n",
        "display(pd.Series(kmeans_labels).value_counts())"
      ],
      "metadata": {
        "id": "6IYd5japb8Y8",
        "colab": {
          "base_uri": "https://localhost:8080/",
          "height": 146
        },
        "outputId": "f2961ccd-e0c8-4a24-d488-7916f7d42d1a"
      },
      "execution_count": 34,
      "outputs": [
        {
          "output_type": "stream",
          "name": "stderr",
          "text": [
            "/usr/local/lib/python3.10/dist-packages/sklearn/cluster/_kmeans.py:870: FutureWarning: The default value of `n_init` will change from 10 to 'auto' in 1.4. Set the value of `n_init` explicitly to suppress the warning\n",
            "  warnings.warn(\n"
          ]
        },
        {
          "output_type": "display_data",
          "data": {
            "text/plain": [
              "3    390\n",
              "2    283\n",
              "1    247\n",
              "0    128\n",
              "dtype: int64"
            ]
          },
          "metadata": {}
        }
      ]
    },
    {
      "cell_type": "code",
      "source": [
        "data_scaled['Cluster']=kmeans_labels\n",
        "\n",
        "pca_2_df = pd.DataFrame(pca_2_result)\n",
        "pca_2_df['Cluster']=kmeans_labels"
      ],
      "metadata": {
        "id": "7CaKqOR3b8WH"
      },
      "execution_count": 35,
      "outputs": []
    },
    {
      "cell_type": "code",
      "source": [
        "sns.set( rc={'figure.figsize':(5,4)},font_scale=1)\n",
        "\n",
        "plt.scatter(x=pca_2_result[:, 0], y=pca_2_result[:, 1], c=kmeans_labels, cmap='viridis')\n",
        "plt.scatter(centroids[:, 0], centroids[:, 1],\n",
        "            marker='x', s=160, color='black')\n",
        "\n",
        "plt.xlabel('Principal Component 1')\n",
        "plt.ylabel('Principal Component 2')\n",
        "\n",
        "plt.title('Clustered Data (PCA visualization)',fontweight='bold')\n",
        "\n",
        "plt.show()"
      ],
      "metadata": {
        "id": "p3GiL7l8b8Tt",
        "colab": {
          "base_uri": "https://localhost:8080/",
          "height": 419
        },
        "outputId": "79cd0118-b15b-46ff-a3c0-9196ba8f6c20"
      },
      "execution_count": 36,
      "outputs": [
        {
          "output_type": "display_data",
          "data": {
            "text/plain": [
              "<Figure size 500x400 with 1 Axes>"
            ],
            "image/png": "[encoded data removed]"
          },
          "metadata": {}
        }
      ]
    },
    {
      "cell_type": "markdown",
      "source": [
        "Посчитаем метрики"
      ],
      "metadata": {
        "id": "NJzKaz0dkr5i"
      }
    },
    {
      "cell_type": "code",
      "source": [
        "print(\"Inertia score: %0.1f\" % kmeans.inertia_,\n",
        "     \"\\nSilhouette score: %0.1f\" % silhouette_score(pca_2_result, kmeans.labels_, metric='euclidean'))"
      ],
      "metadata": {
        "id": "Fxmm_acpb8Q_",
        "colab": {
          "base_uri": "https://localhost:8080/"
        },
        "outputId": "7e9cc269-c364-40e8-8ffc-3835e7b3dec9"
      },
      "execution_count": 37,
      "outputs": [
        {
          "output_type": "stream",
          "name": "stdout",
          "text": [
            "Inertia score: 835.2 \n",
            "Silhouette score: 0.4\n"
          ]
        }
      ]
    },
    {
      "cell_type": "markdown",
      "source": [
        "Для сравнения DBSCAN"
      ],
      "metadata": {
        "id": "VVNKicWtTeyd"
      }
    },
    {
      "cell_type": "code",
      "source": [
        "from sklearn.cluster import  DBSCAN\n",
        "\n",
        "from sklearn.datasets import make_blobs"
      ],
      "metadata": {
        "id": "Rt-0faZ0Tebe"
      },
      "execution_count": null,
      "outputs": []
    },
    {
      "cell_type": "code",
      "source": [
        "X = pca_2_result"
      ],
      "metadata": {
        "id": "d8CHNvp8Tne6"
      },
      "execution_count": null,
      "outputs": []
    },
    {
      "cell_type": "code",
      "source": [
        "cluster = DBSCAN(min_samples=4, eps=0.5)"
      ],
      "metadata": {
        "id": "GD-MFpSmTqi_"
      },
      "execution_count": null,
      "outputs": []
    },
    {
      "cell_type": "code",
      "source": [
        "cluster.fit(X)"
      ],
      "metadata": {
        "colab": {
          "base_uri": "https://localhost:8080/",
          "height": 75
        },
        "id": "iTpKtIjGTsvj",
        "outputId": "c99c9604-ca8d-4112-bcc2-e67326b75e8f"
      },
      "execution_count": null,
      "outputs": [
        {
          "output_type": "execute_result",
          "data": {
            "text/plain": [
              "DBSCAN(min_samples=4)"
            ],
            "text/html": [
              "<style>#sk-container-id-6 {color: black;background-color: white;}#sk-container-id-6 pre{padding: 0;}#sk-container-id-6 div.sk-toggleable {background-color: white;}#sk-container-id-6 label.sk-toggleable__label {cursor: pointer;display: block;width: 100%;margin-bottom: 0;padding: 0.3em;box-sizing: border-box;text-align: center;}#sk-container-id-6 label.sk-toggleable__label-arrow:before {content: \"▸\";float: left;margin-right: 0.25em;color: #696969;}#sk-container-id-6 label.sk-toggleable__label-arrow:hover:before {color: black;}#sk-container-id-6 div.sk-estimator:hover label.sk-toggleable__label-arrow:before {color: black;}#sk-container-id-6 div.sk-toggleable__content {max-height: 0;max-width: 0;overflow: hidden;text-align: left;background-color: #f0f8ff;}#sk-container-id-6 div.sk-toggleable__content pre {margin: 0.2em;color: black;border-radius: 0.25em;background-color: #f0f8ff;}#sk-container-id-6 input.sk-toggleable__control:checked~div.sk-toggleable__content {max-height: 200px;max-width: 100%;overflow: auto;}#sk-container-id-6 input.sk-toggleable__control:checked~label.sk-toggleable__label-arrow:before {content: \"▾\";}#sk-container-id-6 div.sk-estimator input.sk-toggleable__control:checked~label.sk-toggleable__label {background-color: #d4ebff;}#sk-container-id-6 div.sk-label input.sk-toggleable__control:checked~label.sk-toggleable__label {background-color: #d4ebff;}#sk-container-id-6 input.sk-hidden--visually {border: 0;clip: rect(1px 1px 1px 1px);clip: rect(1px, 1px, 1px, 1px);height: 1px;margin: -1px;overflow: hidden;padding: 0;position: absolute;width: 1px;}#sk-container-id-6 div.sk-estimator {font-family: monospace;background-color: #f0f8ff;border: 1px dotted black;border-radius: 0.25em;box-sizing: border-box;margin-bottom: 0.5em;}#sk-container-id-6 div.sk-estimator:hover {background-color: #d4ebff;}#sk-container-id-6 div.sk-parallel-item::after {content: \"\";width: 100%;border-bottom: 1px solid gray;flex-grow: 1;}#sk-container-id-6 div.sk-label:hover label.sk-toggleable__label {background-color: #d4ebff;}#sk-container-id-6 div.sk-serial::before {content: \"\";position: absolute;border-left: 1px solid gray;box-sizing: border-box;top: 0;bottom: 0;left: 50%;z-index: 0;}#sk-container-id-6 div.sk-serial {display: flex;flex-direction: column;align-items: center;background-color: white;padding-right: 0.2em;padding-left: 0.2em;position: relative;}#sk-container-id-6 div.sk-item {position: relative;z-index: 1;}#sk-container-id-6 div.sk-parallel {display: flex;align-items: stretch;justify-content: center;background-color: white;position: relative;}#sk-container-id-6 div.sk-item::before, #sk-container-id-6 div.sk-parallel-item::before {content: \"\";position: absolute;border-left: 1px solid gray;box-sizing: border-box;top: 0;bottom: 0;left: 50%;z-index: -1;}#sk-container-id-6 div.sk-parallel-item {display: flex;flex-direction: column;z-index: 1;position: relative;background-color: white;}#sk-container-id-6 div.sk-parallel-item:first-child::after {align-self: flex-end;width: 50%;}#sk-container-id-6 div.sk-parallel-item:last-child::after {align-self: flex-start;width: 50%;}#sk-container-id-6 div.sk-parallel-item:only-child::after {width: 0;}#sk-container-id-6 div.sk-dashed-wrapped {border: 1px dashed gray;margin: 0 0.4em 0.5em 0.4em;box-sizing: border-box;padding-bottom: 0.4em;background-color: white;}#sk-container-id-6 div.sk-label label {font-family: monospace;font-weight: bold;display: inline-block;line-height: 1.2em;}#sk-container-id-6 div.sk-label-container {text-align: center;}#sk-container-id-6 div.sk-container {/* jupyter's `normalize.less` sets `[hidden] { display: none; }` but bootstrap.min.css set `[hidden] { display: none !important; }` so we also need the `!important` here to be able to override the default hidden behavior on the sphinx rendered scikit-learn.org. See: https://github.com/scikit-learn/scikit-learn/issues/21755 */display: inline-block !important;position: relative;}#sk-container-id-6 div.sk-text-repr-fallback {display: none;}</style><div id=\"sk-container-id-6\" class=\"sk-top-container\"><div class=\"sk-text-repr-fallback\"><pre>DBSCAN(min_samples=4)</pre><b>In a Jupyter environment, please rerun this cell to show the HTML representation or trust the notebook. <br />On GitHub, the HTML representation is unable to render, please try loading this page with nbviewer.org.</b></div><div class=\"sk-container\" hidden><div class=\"sk-item\"><div class=\"sk-estimator sk-toggleable\"><input class=\"sk-toggleable__control sk-hidden--visually\" id=\"sk-estimator-id-6\" type=\"checkbox\" checked><label for=\"sk-estimator-id-6\" class=\"sk-toggleable__label sk-toggleable__label-arrow\">DBSCAN</label><div class=\"sk-toggleable__content\"><pre>DBSCAN(min_samples=4)</pre></div></div></div></div></div>"
            ]
          },
          "metadata": {},
          "execution_count": 116
        }
      ]
    },
    {
      "cell_type": "code",
      "source": [
        "data_scaled['Cluster'] = cluster.labels_\n",
        "data_scaled['Cluster'].value_counts()"
      ],
      "metadata": {
        "colab": {
          "base_uri": "https://localhost:8080/"
        },
        "id": "METXDi5nTyP-",
        "outputId": "11c9264f-9677-447e-cd47-ae1b5853e440"
      },
      "execution_count": null,
      "outputs": [
        {
          "output_type": "execute_result",
          "data": {
            "text/plain": [
              " 2    994\n",
              "-1     28\n",
              " 3     13\n",
              " 0      5\n",
              " 1      4\n",
              " 4      4\n",
              "Name: Cluster, dtype: int64"
            ]
          },
          "metadata": {},
          "execution_count": 117
        }
      ]
    },
    {
      "cell_type": "code",
      "source": [
        "print(\"Silhouette Coefficient: %0.3f\" % metrics.silhouette_score(X,cluster.labels_ ))"
      ],
      "metadata": {
        "colab": {
          "base_uri": "https://localhost:8080/"
        },
        "id": "nlkYP4onUIya",
        "outputId": "b7e685b0-c1a7-4d48-9348-ad7e3fbfbb6a"
      },
      "execution_count": null,
      "outputs": [
        {
          "output_type": "stream",
          "name": "stdout",
          "text": [
            "Silhouette Coefficient: 0.425\n"
          ]
        }
      ]
    },
    {
      "cell_type": "markdown",
      "source": [
        "Зрительно сопоставим результаты кластеризации и ручной классификации"
      ],
      "metadata": {
        "id": "rQKPoYnLYd5e"
      }
    },
    {
      "cell_type": "code",
      "source": [
        "dd_classification = pd.DataFrame(dialectdata['text'])\n",
        "dd_classification['cluster'] = data_scaled['Cluster']\n",
        "dd_classification['tag'] = dialectdata['tag']\n",
        "dd_classification.head(50)"
      ],
      "metadata": {
        "colab": {
          "base_uri": "https://localhost:8080/",
          "height": 1000
        },
        "id": "9uVvVg94Yvx3",
        "outputId": "5dc9db6a-5a9f-43d8-a257-550afc5ba94a"
      },
      "execution_count": 39,
      "outputs": [
        {
          "output_type": "execute_result",
          "data": {
            "text/plain": [
              "                                                 text  cluster         tag\n",
              "0   Становая названа потому, что Пугачев проходил ...        0   география\n",
              "1   Шарташ раньше называли Кержаками, потому что о...        0   география\n",
              "2   Маркова шахта так называется, потому что был т...        0  персоналии\n",
              "3   А в гражданскую войну здесь драка была. Белые,...        0  персоналии\n",
              "4   Екатеринбург был уже, и здесь сначала село, а ...        0   география\n",
              "5   Один раз я машину видела. Здоровенную. Как сте...        0        труд\n",
              "6   Мне рассказывали, да и сама видела-в шахте вез...        0        труд\n",
              "7   Две шахты бывает. Одни-жильные, то есть каменн...        0        труд\n",
              "8   Была контора шахты. Тут рудник над всеми шахта...        0        труд\n",
              "9   Работали целый день с семи до шести вечера. Ра...        0        труд\n",
              "10  В этом месте кругом шахты; в лесу есть ямы, та...        1        труд\n",
              "11  Я ходила в Маркову шахту на 24 часа, на целый ...        0        труд\n",
              "12  А там интересно, каменные стены, вода течет. Р...        0        труд\n",
              "13  Поляки здесь были в 1939 году – пленные. Были ...        0        труд\n",
              "14  Когда Колчак наступал окопы рыли. Они все еще ...        0  персоналии\n",
              "15  Наши ребята один раз золотину нашли. Хорошая з...        0        труд\n",
              "16  Эта местность называется Березовским, потому ч...        0   география\n",
              "17  Люди рассказывают, что скоро Березовский будет...        0   география\n",
              "18  Меня за первого сватали – не отдали. Больно мо...        0        труд\n",
              "19  Идем мы с товарищем, взяли бутылочку. Спросили...        1        труд\n",
              "20  Эта местность называется Березовский потому, ч...        0   география\n",
              "21  Раньше называние было не город Березовский, а ...        0   география\n",
              "22  В школу меня не стали отдавать. Говорили, что ...        1   география\n",
              "23  Когда на торфянике работала, в ликбез ходила. ...        0        труд\n",
              "24  В пасху не работали. Съездишь в город в церков...        0        труд\n",
              "25  Дедушка мой в шахте работал. Как-то праздник б...        0        труд\n",
              "26  Много здесь старателей было. У них маленькие ш...        0        труд\n",
              "27  Тогда время не указан было, работали с утра до...        1        труд\n",
              "28  В няньках жила после школы. При мне трое родил...        3        труд\n",
              "29  В няньках жила. Было две сношенницы и два ребе...        0        труд\n",
              "30  Часов раньше не былою Мама больная была. Няньк...        0        труд\n",
              "31  В Березовском было четыре школы. Церковно-прих...        0   география\n",
              "32  Моя старшая сестра работала в няньках у попа, ...        0        труд\n",
              "33  Здесь когда золото начиналось, с 1747г здесь н...        1        труд\n",
              "34  Мама рассказывала, здесь она родилась, дядюшка...        3        труд\n",
              "35  Отец мой старатель был, здешний, урожденец. Он...        3        труд\n",
              "36  Бойцова была, держала магазин, отец пойдет к н...        0        труд\n",
              "37  А не было у нас такого, чтобы отец много зараб...        3        труд\n",
              "38  Рогдаю понравилась Мария. Он ее засватал. Пошл...        0  персоналии\n",
              "39  Перво золото нашли в болоте. Раньше тюрьма зде...        0        труд\n",
              "40  Много золото мыли на поверхности. Оно было рас...        1        труд\n",
              "41  Война Гражданская была, белых мимо нас гнали, ...        0  персоналии\n",
              "42  Уехали мы торфяник однажды и спрятались там в ...        1  персоналии\n",
              "43  Революция пошла уже. Пошли мы с сестрой к школ...        0  персоналии\n",
              "44  Мы мыли золото с тятей. Я машину качала. Снача...        1        труд\n",
              "45  Аккурат перед самой войной с германцем приезжа...        0  персоналии\n",
              "46  Когда революция началась, народ обрадовался, н...        3  персоналии\n",
              "47  В 1814 году Брусницын – кандальник нашел рассы...        0        труд\n",
              "48  Первое золото в России нашел шарташский житель...        1  персоналии\n",
              "49  Берёзовский строиться начал, когда золото здес...        0        труд"
            ],
            "text/html": [
              "\n",
              "  <div id=\"df-e2d8dd53-d6b0-4cc4-b9c1-86c92354d79b\">\n",
              "    <div class=\"colab-df-container\">\n",
              "      <div>\n",
              "<style scoped>\n",
              "    .dataframe tbody tr th:only-of-type {\n",
              "        vertical-align: middle;\n",
              "    }\n",
              "\n",
              "    .dataframe tbody tr th {\n",
              "        vertical-align: top;\n",
              "    }\n",
              "\n",
              "    .dataframe thead th {\n",
              "        text-align: right;\n",
              "    }\n",
              "</style>\n",
              "<table border=\"1\" class=\"dataframe\">\n",
              "  <thead>\n",
              "    <tr style=\"text-align: right;\">\n",
              "      <th></th>\n",
              "      <th>text</th>\n",
              "      <th>cluster</th>\n",
              "      <th>tag</th>\n",
              "    </tr>\n",
              "  </thead>\n",
              "  <tbody>\n",
              "    <tr>\n",
              "      <th>0</th>\n",
              "      <td>Становая названа потому, что Пугачев проходил ...</td>\n",
              "      <td>0</td>\n",
              "      <td>география</td>\n",
              "    </tr>\n",
              "    <tr>\n",
              "      <th>1</th>\n",
              "      <td>Шарташ раньше называли Кержаками, потому что о...</td>\n",
              "      <td>0</td>\n",
              "      <td>география</td>\n",
              "    </tr>\n",
              "    <tr>\n",
              "      <th>2</th>\n",
              "      <td>Маркова шахта так называется, потому что был т...</td>\n",
              "      <td>0</td>\n",
              "      <td>персоналии</td>\n",
              "    </tr>\n",
              "    <tr>\n",
              "      <th>3</th>\n",
              "      <td>А в гражданскую войну здесь драка была. Белые,...</td>\n",
              "      <td>0</td>\n",
              "      <td>персоналии</td>\n",
              "    </tr>\n",
              "    <tr>\n",
              "      <th>4</th>\n",
              "      <td>Екатеринбург был уже, и здесь сначала село, а ...</td>\n",
              "      <td>0</td>\n",
              "      <td>география</td>\n",
              "    </tr>\n",
              "    <tr>\n",
              "      <th>5</th>\n",
              "      <td>Один раз я машину видела. Здоровенную. Как сте...</td>\n",
              "      <td>0</td>\n",
              "      <td>труд</td>\n",
              "    </tr>\n",
              "    <tr>\n",
              "      <th>6</th>\n",
              "      <td>Мне рассказывали, да и сама видела-в шахте вез...</td>\n",
              "      <td>0</td>\n",
              "      <td>труд</td>\n",
              "    </tr>\n",
              "    <tr>\n",
              "      <th>7</th>\n",
              "      <td>Две шахты бывает. Одни-жильные, то есть каменн...</td>\n",
              "      <td>0</td>\n",
              "      <td>труд</td>\n",
              "    </tr>\n",
              "    <tr>\n",
              "      <th>8</th>\n",
              "      <td>Была контора шахты. Тут рудник над всеми шахта...</td>\n",
              "      <td>0</td>\n",
              "      <td>труд</td>\n",
              "    </tr>\n",
              "    <tr>\n",
              "      <th>9</th>\n",
              "      <td>Работали целый день с семи до шести вечера. Ра...</td>\n",
              "      <td>0</td>\n",
              "      <td>труд</td>\n",
              "    </tr>\n",
              "    <tr>\n",
              "      <th>10</th>\n",
              "      <td>В этом месте кругом шахты; в лесу есть ямы, та...</td>\n",
              "      <td>1</td>\n",
              "      <td>труд</td>\n",
              "    </tr>\n",
              "    <tr>\n",
              "      <th>11</th>\n",
              "      <td>Я ходила в Маркову шахту на 24 часа, на целый ...</td>\n",
              "      <td>0</td>\n",
              "      <td>труд</td>\n",
              "    </tr>\n",
              "    <tr>\n",
              "      <th>12</th>\n",
              "      <td>А там интересно, каменные стены, вода течет. Р...</td>\n",
              "      <td>0</td>\n",
              "      <td>труд</td>\n",
              "    </tr>\n",
              "    <tr>\n",
              "      <th>13</th>\n",
              "      <td>Поляки здесь были в 1939 году – пленные. Были ...</td>\n",
              "      <td>0</td>\n",
              "      <td>труд</td>\n",
              "    </tr>\n",
              "    <tr>\n",
              "      <th>14</th>\n",
              "      <td>Когда Колчак наступал окопы рыли. Они все еще ...</td>\n",
              "      <td>0</td>\n",
              "      <td>персоналии</td>\n",
              "    </tr>\n",
              "    <tr>\n",
              "      <th>15</th>\n",
              "      <td>Наши ребята один раз золотину нашли. Хорошая з...</td>\n",
              "      <td>0</td>\n",
              "      <td>труд</td>\n",
              "    </tr>\n",
              "    <tr>\n",
              "      <th>16</th>\n",
              "      <td>Эта местность называется Березовским, потому ч...</td>\n",
              "      <td>0</td>\n",
              "      <td>география</td>\n",
              "    </tr>\n",
              "    <tr>\n",
              "      <th>17</th>\n",
              "      <td>Люди рассказывают, что скоро Березовский будет...</td>\n",
              "      <td>0</td>\n",
              "      <td>география</td>\n",
              "    </tr>\n",
              "    <tr>\n",
              "      <th>18</th>\n",
              "      <td>Меня за первого сватали – не отдали. Больно мо...</td>\n",
              "      <td>0</td>\n",
              "      <td>труд</td>\n",
              "    </tr>\n",
              "    <tr>\n",
              "      <th>19</th>\n",
              "      <td>Идем мы с товарищем, взяли бутылочку. Спросили...</td>\n",
              "      <td>1</td>\n",
              "      <td>труд</td>\n",
              "    </tr>\n",
              "    <tr>\n",
              "      <th>20</th>\n",
              "      <td>Эта местность называется Березовский потому, ч...</td>\n",
              "      <td>0</td>\n",
              "      <td>география</td>\n",
              "    </tr>\n",
              "    <tr>\n",
              "      <th>21</th>\n",
              "      <td>Раньше называние было не город Березовский, а ...</td>\n",
              "      <td>0</td>\n",
              "      <td>география</td>\n",
              "    </tr>\n",
              "    <tr>\n",
              "      <th>22</th>\n",
              "      <td>В школу меня не стали отдавать. Говорили, что ...</td>\n",
              "      <td>1</td>\n",
              "      <td>география</td>\n",
              "    </tr>\n",
              "    <tr>\n",
              "      <th>23</th>\n",
              "      <td>Когда на торфянике работала, в ликбез ходила. ...</td>\n",
              "      <td>0</td>\n",
              "      <td>труд</td>\n",
              "    </tr>\n",
              "    <tr>\n",
              "      <th>24</th>\n",
              "      <td>В пасху не работали. Съездишь в город в церков...</td>\n",
              "      <td>0</td>\n",
              "      <td>труд</td>\n",
              "    </tr>\n",
              "    <tr>\n",
              "      <th>25</th>\n",
              "      <td>Дедушка мой в шахте работал. Как-то праздник б...</td>\n",
              "      <td>0</td>\n",
              "      <td>труд</td>\n",
              "    </tr>\n",
              "    <tr>\n",
              "      <th>26</th>\n",
              "      <td>Много здесь старателей было. У них маленькие ш...</td>\n",
              "      <td>0</td>\n",
              "      <td>труд</td>\n",
              "    </tr>\n",
              "    <tr>\n",
              "      <th>27</th>\n",
              "      <td>Тогда время не указан было, работали с утра до...</td>\n",
              "      <td>1</td>\n",
              "      <td>труд</td>\n",
              "    </tr>\n",
              "    <tr>\n",
              "      <th>28</th>\n",
              "      <td>В няньках жила после школы. При мне трое родил...</td>\n",
              "      <td>3</td>\n",
              "      <td>труд</td>\n",
              "    </tr>\n",
              "    <tr>\n",
              "      <th>29</th>\n",
              "      <td>В няньках жила. Было две сношенницы и два ребе...</td>\n",
              "      <td>0</td>\n",
              "      <td>труд</td>\n",
              "    </tr>\n",
              "    <tr>\n",
              "      <th>30</th>\n",
              "      <td>Часов раньше не былою Мама больная была. Няньк...</td>\n",
              "      <td>0</td>\n",
              "      <td>труд</td>\n",
              "    </tr>\n",
              "    <tr>\n",
              "      <th>31</th>\n",
              "      <td>В Березовском было четыре школы. Церковно-прих...</td>\n",
              "      <td>0</td>\n",
              "      <td>география</td>\n",
              "    </tr>\n",
              "    <tr>\n",
              "      <th>32</th>\n",
              "      <td>Моя старшая сестра работала в няньках у попа, ...</td>\n",
              "      <td>0</td>\n",
              "      <td>труд</td>\n",
              "    </tr>\n",
              "    <tr>\n",
              "      <th>33</th>\n",
              "      <td>Здесь когда золото начиналось, с 1747г здесь н...</td>\n",
              "      <td>1</td>\n",
              "      <td>труд</td>\n",
              "    </tr>\n",
              "    <tr>\n",
              "      <th>34</th>\n",
              "      <td>Мама рассказывала, здесь она родилась, дядюшка...</td>\n",
              "      <td>3</td>\n",
              "      <td>труд</td>\n",
              "    </tr>\n",
              "    <tr>\n",
              "      <th>35</th>\n",
              "      <td>Отец мой старатель был, здешний, урожденец. Он...</td>\n",
              "      <td>3</td>\n",
              "      <td>труд</td>\n",
              "    </tr>\n",
              "    <tr>\n",
              "      <th>36</th>\n",
              "      <td>Бойцова была, держала магазин, отец пойдет к н...</td>\n",
              "      <td>0</td>\n",
              "      <td>труд</td>\n",
              "    </tr>\n",
              "    <tr>\n",
              "      <th>37</th>\n",
              "      <td>А не было у нас такого, чтобы отец много зараб...</td>\n",
              "      <td>3</td>\n",
              "      <td>труд</td>\n",
              "    </tr>\n",
              "    <tr>\n",
              "      <th>38</th>\n",
              "      <td>Рогдаю понравилась Мария. Он ее засватал. Пошл...</td>\n",
              "      <td>0</td>\n",
              "      <td>персоналии</td>\n",
              "    </tr>\n",
              "    <tr>\n",
              "      <th>39</th>\n",
              "      <td>Перво золото нашли в болоте. Раньше тюрьма зде...</td>\n",
              "      <td>0</td>\n",
              "      <td>труд</td>\n",
              "    </tr>\n",
              "    <tr>\n",
              "      <th>40</th>\n",
              "      <td>Много золото мыли на поверхности. Оно было рас...</td>\n",
              "      <td>1</td>\n",
              "      <td>труд</td>\n",
              "    </tr>\n",
              "    <tr>\n",
              "      <th>41</th>\n",
              "      <td>Война Гражданская была, белых мимо нас гнали, ...</td>\n",
              "      <td>0</td>\n",
              "      <td>персоналии</td>\n",
              "    </tr>\n",
              "    <tr>\n",
              "      <th>42</th>\n",
              "      <td>Уехали мы торфяник однажды и спрятались там в ...</td>\n",
              "      <td>1</td>\n",
              "      <td>персоналии</td>\n",
              "    </tr>\n",
              "    <tr>\n",
              "      <th>43</th>\n",
              "      <td>Революция пошла уже. Пошли мы с сестрой к школ...</td>\n",
              "      <td>0</td>\n",
              "      <td>персоналии</td>\n",
              "    </tr>\n",
              "    <tr>\n",
              "      <th>44</th>\n",
              "      <td>Мы мыли золото с тятей. Я машину качала. Снача...</td>\n",
              "      <td>1</td>\n",
              "      <td>труд</td>\n",
              "    </tr>\n",
              "    <tr>\n",
              "      <th>45</th>\n",
              "      <td>Аккурат перед самой войной с германцем приезжа...</td>\n",
              "      <td>0</td>\n",
              "      <td>персоналии</td>\n",
              "    </tr>\n",
              "    <tr>\n",
              "      <th>46</th>\n",
              "      <td>Когда революция началась, народ обрадовался, н...</td>\n",
              "      <td>3</td>\n",
              "      <td>персоналии</td>\n",
              "    </tr>\n",
              "    <tr>\n",
              "      <th>47</th>\n",
              "      <td>В 1814 году Брусницын – кандальник нашел рассы...</td>\n",
              "      <td>0</td>\n",
              "      <td>труд</td>\n",
              "    </tr>\n",
              "    <tr>\n",
              "      <th>48</th>\n",
              "      <td>Первое золото в России нашел шарташский житель...</td>\n",
              "      <td>1</td>\n",
              "      <td>персоналии</td>\n",
              "    </tr>\n",
              "    <tr>\n",
              "      <th>49</th>\n",
              "      <td>Берёзовский строиться начал, когда золото здес...</td>\n",
              "      <td>0</td>\n",
              "      <td>труд</td>\n",
              "    </tr>\n",
              "  </tbody>\n",
              "</table>\n",
              "</div>\n",
              "      <button class=\"colab-df-convert\" onclick=\"convertToInteractive('df-e2d8dd53-d6b0-4cc4-b9c1-86c92354d79b')\"\n",
              "              title=\"Convert this dataframe to an interactive table.\"\n",
              "              style=\"display:none;\">\n",
              "        \n",
              "  <svg xmlns=\"http://www.w3.org/2000/svg\" height=\"24px\"viewBox=\"0 0 24 24\"\n",
              "       width=\"24px\">\n",
              "    <path d=\"M0 0h24v24H0V0z\" fill=\"none\"/>\n",
              "    <path d=\"M18.56 5.44l.94 2.06.94-2.06 2.06-.94-2.06-.94-.94-2.06-.94 2.06-2.06.94zm-11 1L8.5 8.5l.94-2.06 2.06-.94-2.06-.94L8.5 2.5l-.94 2.06-2.06.94zm10 10l.94 2.06.94-2.06 2.06-.94-2.06-.94-.94-2.06-.94 2.06-2.06.94z\"/><path d=\"M17.41 7.96l-1.37-1.37c-.4-.4-.92-.59-1.43-.59-.52 0-1.04.2-1.43.59L10.3 9.45l-7.72 7.72c-.78.78-.78 2.05 0 2.83L4 21.41c.39.39.9.59 1.41.59.51 0 1.02-.2 1.41-.59l7.78-7.78 2.81-2.81c.8-.78.8-2.07 0-2.86zM5.41 20L4 18.59l7.72-7.72 1.47 1.35L5.41 20z\"/>\n",
              "  </svg>\n",
              "      </button>\n",
              "      \n",
              "  <style>\n",
              "    .colab-df-container {\n",
              "      display:flex;\n",
              "      flex-wrap:wrap;\n",
              "      gap: 12px;\n",
              "    }\n",
              "\n",
              "    .colab-df-convert {\n",
              "      background-color: #E8F0FE;\n",
              "      border: none;\n",
              "      border-radius: 50%;\n",
              "      cursor: pointer;\n",
              "      display: none;\n",
              "      fill: #1967D2;\n",
              "      height: 32px;\n",
              "      padding: 0 0 0 0;\n",
              "      width: 32px;\n",
              "    }\n",
              "\n",
              "    .colab-df-convert:hover {\n",
              "      background-color: #E2EBFA;\n",
              "      box-shadow: 0px 1px 2px rgba(60, 64, 67, 0.3), 0px 1px 3px 1px rgba(60, 64, 67, 0.15);\n",
              "      fill: #174EA6;\n",
              "    }\n",
              "\n",
              "    [theme=dark] .colab-df-convert {\n",
              "      background-color: #3B4455;\n",
              "      fill: #D2E3FC;\n",
              "    }\n",
              "\n",
              "    [theme=dark] .colab-df-convert:hover {\n",
              "      background-color: #434B5C;\n",
              "      box-shadow: 0px 1px 3px 1px rgba(0, 0, 0, 0.15);\n",
              "      filter: drop-shadow(0px 1px 2px rgba(0, 0, 0, 0.3));\n",
              "      fill: #FFFFFF;\n",
              "    }\n",
              "  </style>\n",
              "\n",
              "      <script>\n",
              "        const buttonEl =\n",
              "          document.querySelector('#df-e2d8dd53-d6b0-4cc4-b9c1-86c92354d79b button.colab-df-convert');\n",
              "        buttonEl.style.display =\n",
              "          google.colab.kernel.accessAllowed ? 'block' : 'none';\n",
              "\n",
              "        async function convertToInteractive(key) {\n",
              "          const element = document.querySelector('#df-e2d8dd53-d6b0-4cc4-b9c1-86c92354d79b');\n",
              "          const dataTable =\n",
              "            await google.colab.kernel.invokeFunction('convertToInteractive',\n",
              "                                                     [key], {});\n",
              "          if (!dataTable) return;\n",
              "\n",
              "          const docLinkHtml = 'Like what you see? Visit the ' +\n",
              "            '<a target=\"_blank\" href=https://colab.research.google.com/notebooks/data_table.ipynb>data table notebook</a>'\n",
              "            + ' to learn more about interactive tables.';\n",
              "          element.innerHTML = '';\n",
              "          dataTable['output_type'] = 'display_data';\n",
              "          await google.colab.output.renderOutput(dataTable, element);\n",
              "          const docLink = document.createElement('div');\n",
              "          docLink.innerHTML = docLinkHtml;\n",
              "          element.appendChild(docLink);\n",
              "        }\n",
              "      </script>\n",
              "    </div>\n",
              "  </div>\n",
              "  "
            ]
          },
          "metadata": {},
          "execution_count": 39
        }
      ]
    },
    {
      "cell_type": "markdown",
      "source": [
        "Или вот так:"
      ],
      "metadata": {
        "id": "oxT1VL8ApbR3"
      }
    },
    {
      "cell_type": "code",
      "source": [
        "dd_1 = dd_classification.query(\"\"\"cluster == 0\"\"\")\n",
        "dd_1.head(15)"
      ],
      "metadata": {
        "colab": {
          "base_uri": "https://localhost:8080/",
          "height": 519
        },
        "id": "Toivm0TspdiG",
        "outputId": "1e52a4cf-91e8-441e-8f86-eb91a1ad3ca3"
      },
      "execution_count": 63,
      "outputs": [
        {
          "output_type": "execute_result",
          "data": {
            "text/plain": [
              "                                                 text  cluster         tag\n",
              "0   Становая названа потому, что Пугачев проходил ...        0   география\n",
              "1   Шарташ раньше называли Кержаками, потому что о...        0   география\n",
              "2   Маркова шахта так называется, потому что был т...        0  персоналии\n",
              "3   А в гражданскую войну здесь драка была. Белые,...        0  персоналии\n",
              "4   Екатеринбург был уже, и здесь сначала село, а ...        0   география\n",
              "5   Один раз я машину видела. Здоровенную. Как сте...        0        труд\n",
              "6   Мне рассказывали, да и сама видела-в шахте вез...        0        труд\n",
              "7   Две шахты бывает. Одни-жильные, то есть каменн...        0        труд\n",
              "8   Была контора шахты. Тут рудник над всеми шахта...        0        труд\n",
              "9   Работали целый день с семи до шести вечера. Ра...        0        труд\n",
              "11  Я ходила в Маркову шахту на 24 часа, на целый ...        0        труд\n",
              "12  А там интересно, каменные стены, вода течет. Р...        0        труд\n",
              "13  Поляки здесь были в 1939 году – пленные. Были ...        0        труд\n",
              "14  Когда Колчак наступал окопы рыли. Они все еще ...        0  персоналии\n",
              "15  Наши ребята один раз золотину нашли. Хорошая з...        0        труд"
            ],
            "text/html": [
              "\n",
              "  <div id=\"df-216db18a-6306-47d5-891f-3a2d2f70b3d3\">\n",
              "    <div class=\"colab-df-container\">\n",
              "      <div>\n",
              "<style scoped>\n",
              "    .dataframe tbody tr th:only-of-type {\n",
              "        vertical-align: middle;\n",
              "    }\n",
              "\n",
              "    .dataframe tbody tr th {\n",
              "        vertical-align: top;\n",
              "    }\n",
              "\n",
              "    .dataframe thead th {\n",
              "        text-align: right;\n",
              "    }\n",
              "</style>\n",
              "<table border=\"1\" class=\"dataframe\">\n",
              "  <thead>\n",
              "    <tr style=\"text-align: right;\">\n",
              "      <th></th>\n",
              "      <th>text</th>\n",
              "      <th>cluster</th>\n",
              "      <th>tag</th>\n",
              "    </tr>\n",
              "  </thead>\n",
              "  <tbody>\n",
              "    <tr>\n",
              "      <th>0</th>\n",
              "      <td>Становая названа потому, что Пугачев проходил ...</td>\n",
              "      <td>0</td>\n",
              "      <td>география</td>\n",
              "    </tr>\n",
              "    <tr>\n",
              "      <th>1</th>\n",
              "      <td>Шарташ раньше называли Кержаками, потому что о...</td>\n",
              "      <td>0</td>\n",
              "      <td>география</td>\n",
              "    </tr>\n",
              "    <tr>\n",
              "      <th>2</th>\n",
              "      <td>Маркова шахта так называется, потому что был т...</td>\n",
              "      <td>0</td>\n",
              "      <td>персоналии</td>\n",
              "    </tr>\n",
              "    <tr>\n",
              "      <th>3</th>\n",
              "      <td>А в гражданскую войну здесь драка была. Белые,...</td>\n",
              "      <td>0</td>\n",
              "      <td>персоналии</td>\n",
              "    </tr>\n",
              "    <tr>\n",
              "      <th>4</th>\n",
              "      <td>Екатеринбург был уже, и здесь сначала село, а ...</td>\n",
              "      <td>0</td>\n",
              "      <td>география</td>\n",
              "    </tr>\n",
              "    <tr>\n",
              "      <th>5</th>\n",
              "      <td>Один раз я машину видела. Здоровенную. Как сте...</td>\n",
              "      <td>0</td>\n",
              "      <td>труд</td>\n",
              "    </tr>\n",
              "    <tr>\n",
              "      <th>6</th>\n",
              "      <td>Мне рассказывали, да и сама видела-в шахте вез...</td>\n",
              "      <td>0</td>\n",
              "      <td>труд</td>\n",
              "    </tr>\n",
              "    <tr>\n",
              "      <th>7</th>\n",
              "      <td>Две шахты бывает. Одни-жильные, то есть каменн...</td>\n",
              "      <td>0</td>\n",
              "      <td>труд</td>\n",
              "    </tr>\n",
              "    <tr>\n",
              "      <th>8</th>\n",
              "      <td>Была контора шахты. Тут рудник над всеми шахта...</td>\n",
              "      <td>0</td>\n",
              "      <td>труд</td>\n",
              "    </tr>\n",
              "    <tr>\n",
              "      <th>9</th>\n",
              "      <td>Работали целый день с семи до шести вечера. Ра...</td>\n",
              "      <td>0</td>\n",
              "      <td>труд</td>\n",
              "    </tr>\n",
              "    <tr>\n",
              "      <th>11</th>\n",
              "      <td>Я ходила в Маркову шахту на 24 часа, на целый ...</td>\n",
              "      <td>0</td>\n",
              "      <td>труд</td>\n",
              "    </tr>\n",
              "    <tr>\n",
              "      <th>12</th>\n",
              "      <td>А там интересно, каменные стены, вода течет. Р...</td>\n",
              "      <td>0</td>\n",
              "      <td>труд</td>\n",
              "    </tr>\n",
              "    <tr>\n",
              "      <th>13</th>\n",
              "      <td>Поляки здесь были в 1939 году – пленные. Были ...</td>\n",
              "      <td>0</td>\n",
              "      <td>труд</td>\n",
              "    </tr>\n",
              "    <tr>\n",
              "      <th>14</th>\n",
              "      <td>Когда Колчак наступал окопы рыли. Они все еще ...</td>\n",
              "      <td>0</td>\n",
              "      <td>персоналии</td>\n",
              "    </tr>\n",
              "    <tr>\n",
              "      <th>15</th>\n",
              "      <td>Наши ребята один раз золотину нашли. Хорошая з...</td>\n",
              "      <td>0</td>\n",
              "      <td>труд</td>\n",
              "    </tr>\n",
              "  </tbody>\n",
              "</table>\n",
              "</div>\n",
              "      <button class=\"colab-df-convert\" onclick=\"convertToInteractive('df-216db18a-6306-47d5-891f-3a2d2f70b3d3')\"\n",
              "              title=\"Convert this dataframe to an interactive table.\"\n",
              "              style=\"display:none;\">\n",
              "        \n",
              "  <svg xmlns=\"http://www.w3.org/2000/svg\" height=\"24px\"viewBox=\"0 0 24 24\"\n",
              "       width=\"24px\">\n",
              "    <path d=\"M0 0h24v24H0V0z\" fill=\"none\"/>\n",
              "    <path d=\"M18.56 5.44l.94 2.06.94-2.06 2.06-.94-2.06-.94-.94-2.06-.94 2.06-2.06.94zm-11 1L8.5 8.5l.94-2.06 2.06-.94-2.06-.94L8.5 2.5l-.94 2.06-2.06.94zm10 10l.94 2.06.94-2.06 2.06-.94-2.06-.94-.94-2.06-.94 2.06-2.06.94z\"/><path d=\"M17.41 7.96l-1.37-1.37c-.4-.4-.92-.59-1.43-.59-.52 0-1.04.2-1.43.59L10.3 9.45l-7.72 7.72c-.78.78-.78 2.05 0 2.83L4 21.41c.39.39.9.59 1.41.59.51 0 1.02-.2 1.41-.59l7.78-7.78 2.81-2.81c.8-.78.8-2.07 0-2.86zM5.41 20L4 18.59l7.72-7.72 1.47 1.35L5.41 20z\"/>\n",
              "  </svg>\n",
              "      </button>\n",
              "      \n",
              "  <style>\n",
              "    .colab-df-container {\n",
              "      display:flex;\n",
              "      flex-wrap:wrap;\n",
              "      gap: 12px;\n",
              "    }\n",
              "\n",
              "    .colab-df-convert {\n",
              "      background-color: #E8F0FE;\n",
              "      border: none;\n",
              "      border-radius: 50%;\n",
              "      cursor: pointer;\n",
              "      display: none;\n",
              "      fill: #1967D2;\n",
              "      height: 32px;\n",
              "      padding: 0 0 0 0;\n",
              "      width: 32px;\n",
              "    }\n",
              "\n",
              "    .colab-df-convert:hover {\n",
              "      background-color: #E2EBFA;\n",
              "      box-shadow: 0px 1px 2px rgba(60, 64, 67, 0.3), 0px 1px 3px 1px rgba(60, 64, 67, 0.15);\n",
              "      fill: #174EA6;\n",
              "    }\n",
              "\n",
              "    [theme=dark] .colab-df-convert {\n",
              "      background-color: #3B4455;\n",
              "      fill: #D2E3FC;\n",
              "    }\n",
              "\n",
              "    [theme=dark] .colab-df-convert:hover {\n",
              "      background-color: #434B5C;\n",
              "      box-shadow: 0px 1px 3px 1px rgba(0, 0, 0, 0.15);\n",
              "      filter: drop-shadow(0px 1px 2px rgba(0, 0, 0, 0.3));\n",
              "      fill: #FFFFFF;\n",
              "    }\n",
              "  </style>\n",
              "\n",
              "      <script>\n",
              "        const buttonEl =\n",
              "          document.querySelector('#df-216db18a-6306-47d5-891f-3a2d2f70b3d3 button.colab-df-convert');\n",
              "        buttonEl.style.display =\n",
              "          google.colab.kernel.accessAllowed ? 'block' : 'none';\n",
              "\n",
              "        async function convertToInteractive(key) {\n",
              "          const element = document.querySelector('#df-216db18a-6306-47d5-891f-3a2d2f70b3d3');\n",
              "          const dataTable =\n",
              "            await google.colab.kernel.invokeFunction('convertToInteractive',\n",
              "                                                     [key], {});\n",
              "          if (!dataTable) return;\n",
              "\n",
              "          const docLinkHtml = 'Like what you see? Visit the ' +\n",
              "            '<a target=\"_blank\" href=https://colab.research.google.com/notebooks/data_table.ipynb>data table notebook</a>'\n",
              "            + ' to learn more about interactive tables.';\n",
              "          element.innerHTML = '';\n",
              "          dataTable['output_type'] = 'display_data';\n",
              "          await google.colab.output.renderOutput(dataTable, element);\n",
              "          const docLink = document.createElement('div');\n",
              "          docLink.innerHTML = docLinkHtml;\n",
              "          element.appendChild(docLink);\n",
              "        }\n",
              "      </script>\n",
              "    </div>\n",
              "  </div>\n",
              "  "
            ]
          },
          "metadata": {},
          "execution_count": 63
        }
      ]
    },
    {
      "cell_type": "code",
      "source": [
        "dd_2 = dd_classification.query(\"\"\"cluster == 1\"\"\")\n",
        "dd_2.head(15)"
      ],
      "metadata": {
        "colab": {
          "base_uri": "https://localhost:8080/",
          "height": 519
        },
        "id": "-MOLMptZpdc1",
        "outputId": "9cb6ac0d-3351-44eb-b288-ba45b6522af8"
      },
      "execution_count": 64,
      "outputs": [
        {
          "output_type": "execute_result",
          "data": {
            "text/plain": [
              "                                                 text  cluster         tag\n",
              "10  В этом месте кругом шахты; в лесу есть ямы, та...        1        труд\n",
              "19  Идем мы с товарищем, взяли бутылочку. Спросили...        1        труд\n",
              "22  В школу меня не стали отдавать. Говорили, что ...        1   география\n",
              "27  Тогда время не указан было, работали с утра до...        1        труд\n",
              "33  Здесь когда золото начиналось, с 1747г здесь н...        1        труд\n",
              "40  Много золото мыли на поверхности. Оно было рас...        1        труд\n",
              "42  Уехали мы торфяник однажды и спрятались там в ...        1  персоналии\n",
              "44  Мы мыли золото с тятей. Я машину качала. Снача...        1        труд\n",
              "48  Первое золото в России нашел шарташский житель...        1  персоналии\n",
              "60  Жил у нас по Новой улице Воротников, коммунист...        1  персоналии\n",
              "63  На ростанях у нас была шахта. Повели туда крас...        1  персоналии\n",
              "66  Ране мирно жили. Драк улица на улицу не было, ...        1        труд\n",
              "75  Бурили в шахте раньше всухую, было много пыли....        1        труд\n",
              "76  Раньше работали строительскими бригадами. Соби...        1        труд\n",
              "78  В прошлом в шахте работала даже лошадь. Конюшн...        1        труд"
            ],
            "text/html": [
              "\n",
              "  <div id=\"df-758e5e6d-2136-4aec-b172-dea3482eaa2d\">\n",
              "    <div class=\"colab-df-container\">\n",
              "      <div>\n",
              "<style scoped>\n",
              "    .dataframe tbody tr th:only-of-type {\n",
              "        vertical-align: middle;\n",
              "    }\n",
              "\n",
              "    .dataframe tbody tr th {\n",
              "        vertical-align: top;\n",
              "    }\n",
              "\n",
              "    .dataframe thead th {\n",
              "        text-align: right;\n",
              "    }\n",
              "</style>\n",
              "<table border=\"1\" class=\"dataframe\">\n",
              "  <thead>\n",
              "    <tr style=\"text-align: right;\">\n",
              "      <th></th>\n",
              "      <th>text</th>\n",
              "      <th>cluster</th>\n",
              "      <th>tag</th>\n",
              "    </tr>\n",
              "  </thead>\n",
              "  <tbody>\n",
              "    <tr>\n",
              "      <th>10</th>\n",
              "      <td>В этом месте кругом шахты; в лесу есть ямы, та...</td>\n",
              "      <td>1</td>\n",
              "      <td>труд</td>\n",
              "    </tr>\n",
              "    <tr>\n",
              "      <th>19</th>\n",
              "      <td>Идем мы с товарищем, взяли бутылочку. Спросили...</td>\n",
              "      <td>1</td>\n",
              "      <td>труд</td>\n",
              "    </tr>\n",
              "    <tr>\n",
              "      <th>22</th>\n",
              "      <td>В школу меня не стали отдавать. Говорили, что ...</td>\n",
              "      <td>1</td>\n",
              "      <td>география</td>\n",
              "    </tr>\n",
              "    <tr>\n",
              "      <th>27</th>\n",
              "      <td>Тогда время не указан было, работали с утра до...</td>\n",
              "      <td>1</td>\n",
              "      <td>труд</td>\n",
              "    </tr>\n",
              "    <tr>\n",
              "      <th>33</th>\n",
              "      <td>Здесь когда золото начиналось, с 1747г здесь н...</td>\n",
              "      <td>1</td>\n",
              "      <td>труд</td>\n",
              "    </tr>\n",
              "    <tr>\n",
              "      <th>40</th>\n",
              "      <td>Много золото мыли на поверхности. Оно было рас...</td>\n",
              "      <td>1</td>\n",
              "      <td>труд</td>\n",
              "    </tr>\n",
              "    <tr>\n",
              "      <th>42</th>\n",
              "      <td>Уехали мы торфяник однажды и спрятались там в ...</td>\n",
              "      <td>1</td>\n",
              "      <td>персоналии</td>\n",
              "    </tr>\n",
              "    <tr>\n",
              "      <th>44</th>\n",
              "      <td>Мы мыли золото с тятей. Я машину качала. Снача...</td>\n",
              "      <td>1</td>\n",
              "      <td>труд</td>\n",
              "    </tr>\n",
              "    <tr>\n",
              "      <th>48</th>\n",
              "      <td>Первое золото в России нашел шарташский житель...</td>\n",
              "      <td>1</td>\n",
              "      <td>персоналии</td>\n",
              "    </tr>\n",
              "    <tr>\n",
              "      <th>60</th>\n",
              "      <td>Жил у нас по Новой улице Воротников, коммунист...</td>\n",
              "      <td>1</td>\n",
              "      <td>персоналии</td>\n",
              "    </tr>\n",
              "    <tr>\n",
              "      <th>63</th>\n",
              "      <td>На ростанях у нас была шахта. Повели туда крас...</td>\n",
              "      <td>1</td>\n",
              "      <td>персоналии</td>\n",
              "    </tr>\n",
              "    <tr>\n",
              "      <th>66</th>\n",
              "      <td>Ране мирно жили. Драк улица на улицу не было, ...</td>\n",
              "      <td>1</td>\n",
              "      <td>труд</td>\n",
              "    </tr>\n",
              "    <tr>\n",
              "      <th>75</th>\n",
              "      <td>Бурили в шахте раньше всухую, было много пыли....</td>\n",
              "      <td>1</td>\n",
              "      <td>труд</td>\n",
              "    </tr>\n",
              "    <tr>\n",
              "      <th>76</th>\n",
              "      <td>Раньше работали строительскими бригадами. Соби...</td>\n",
              "      <td>1</td>\n",
              "      <td>труд</td>\n",
              "    </tr>\n",
              "    <tr>\n",
              "      <th>78</th>\n",
              "      <td>В прошлом в шахте работала даже лошадь. Конюшн...</td>\n",
              "      <td>1</td>\n",
              "      <td>труд</td>\n",
              "    </tr>\n",
              "  </tbody>\n",
              "</table>\n",
              "</div>\n",
              "      <button class=\"colab-df-convert\" onclick=\"convertToInteractive('df-758e5e6d-2136-4aec-b172-dea3482eaa2d')\"\n",
              "              title=\"Convert this dataframe to an interactive table.\"\n",
              "              style=\"display:none;\">\n",
              "        \n",
              "  <svg xmlns=\"http://www.w3.org/2000/svg\" height=\"24px\"viewBox=\"0 0 24 24\"\n",
              "       width=\"24px\">\n",
              "    <path d=\"M0 0h24v24H0V0z\" fill=\"none\"/>\n",
              "    <path d=\"M18.56 5.44l.94 2.06.94-2.06 2.06-.94-2.06-.94-.94-2.06-.94 2.06-2.06.94zm-11 1L8.5 8.5l.94-2.06 2.06-.94-2.06-.94L8.5 2.5l-.94 2.06-2.06.94zm10 10l.94 2.06.94-2.06 2.06-.94-2.06-.94-.94-2.06-.94 2.06-2.06.94z\"/><path d=\"M17.41 7.96l-1.37-1.37c-.4-.4-.92-.59-1.43-.59-.52 0-1.04.2-1.43.59L10.3 9.45l-7.72 7.72c-.78.78-.78 2.05 0 2.83L4 21.41c.39.39.9.59 1.41.59.51 0 1.02-.2 1.41-.59l7.78-7.78 2.81-2.81c.8-.78.8-2.07 0-2.86zM5.41 20L4 18.59l7.72-7.72 1.47 1.35L5.41 20z\"/>\n",
              "  </svg>\n",
              "      </button>\n",
              "      \n",
              "  <style>\n",
              "    .colab-df-container {\n",
              "      display:flex;\n",
              "      flex-wrap:wrap;\n",
              "      gap: 12px;\n",
              "    }\n",
              "\n",
              "    .colab-df-convert {\n",
              "      background-color: #E8F0FE;\n",
              "      border: none;\n",
              "      border-radius: 50%;\n",
              "      cursor: pointer;\n",
              "      display: none;\n",
              "      fill: #1967D2;\n",
              "      height: 32px;\n",
              "      padding: 0 0 0 0;\n",
              "      width: 32px;\n",
              "    }\n",
              "\n",
              "    .colab-df-convert:hover {\n",
              "      background-color: #E2EBFA;\n",
              "      box-shadow: 0px 1px 2px rgba(60, 64, 67, 0.3), 0px 1px 3px 1px rgba(60, 64, 67, 0.15);\n",
              "      fill: #174EA6;\n",
              "    }\n",
              "\n",
              "    [theme=dark] .colab-df-convert {\n",
              "      background-color: #3B4455;\n",
              "      fill: #D2E3FC;\n",
              "    }\n",
              "\n",
              "    [theme=dark] .colab-df-convert:hover {\n",
              "      background-color: #434B5C;\n",
              "      box-shadow: 0px 1px 3px 1px rgba(0, 0, 0, 0.15);\n",
              "      filter: drop-shadow(0px 1px 2px rgba(0, 0, 0, 0.3));\n",
              "      fill: #FFFFFF;\n",
              "    }\n",
              "  </style>\n",
              "\n",
              "      <script>\n",
              "        const buttonEl =\n",
              "          document.querySelector('#df-758e5e6d-2136-4aec-b172-dea3482eaa2d button.colab-df-convert');\n",
              "        buttonEl.style.display =\n",
              "          google.colab.kernel.accessAllowed ? 'block' : 'none';\n",
              "\n",
              "        async function convertToInteractive(key) {\n",
              "          const element = document.querySelector('#df-758e5e6d-2136-4aec-b172-dea3482eaa2d');\n",
              "          const dataTable =\n",
              "            await google.colab.kernel.invokeFunction('convertToInteractive',\n",
              "                                                     [key], {});\n",
              "          if (!dataTable) return;\n",
              "\n",
              "          const docLinkHtml = 'Like what you see? Visit the ' +\n",
              "            '<a target=\"_blank\" href=https://colab.research.google.com/notebooks/data_table.ipynb>data table notebook</a>'\n",
              "            + ' to learn more about interactive tables.';\n",
              "          element.innerHTML = '';\n",
              "          dataTable['output_type'] = 'display_data';\n",
              "          await google.colab.output.renderOutput(dataTable, element);\n",
              "          const docLink = document.createElement('div');\n",
              "          docLink.innerHTML = docLinkHtml;\n",
              "          element.appendChild(docLink);\n",
              "        }\n",
              "      </script>\n",
              "    </div>\n",
              "  </div>\n",
              "  "
            ]
          },
          "metadata": {},
          "execution_count": 64
        }
      ]
    },
    {
      "cell_type": "code",
      "source": [
        "dd_3 = dd_classification.query(\"\"\"cluster == 2\"\"\")\n",
        "dd_3.head(15)"
      ],
      "metadata": {
        "colab": {
          "base_uri": "https://localhost:8080/",
          "height": 519
        },
        "id": "lb0GxmKspdW2",
        "outputId": "0da5ad6d-7e24-48b5-c074-3c82c54178c3"
      },
      "execution_count": 65,
      "outputs": [
        {
          "output_type": "execute_result",
          "data": {
            "text/plain": [
              "                                                  text  cluster         tag\n",
              "57   Раньше как золото добывали? Копали совсем на п...        2        труд\n",
              "88   Дворы, в которых была одна корова лошадь, птиц...        2        труд\n",
              "149  Симонов был очень богат. Однажды он попросил А...        2  персоналии\n",
              "152  Штейгер-было самое влиятельное лицо, он руково...        2  персоналии\n",
              "156  Пышминцы-кулачники. Смолу гнали, бондари хорош...        2        труд\n",
              "158  Мать моя, Елизавета Митрофановна была подпольщ...        2  персоналии\n",
              "180  Где от Урала мост, там пруд был. И по праву ст...        2   география\n",
              "191  Работала у нас девушка, я через нее и пострада...        2        труд\n",
              "193  В мае 1918г была здесь массовка, большевики хо...        2  персоналии\n",
              "195  У нас здесь в центре церковь была, так она уж ...        2   география\n",
              "196  Памятник видели на площади героям гражданской ...        2  персоналии\n",
              "197  Церковь была  большая, хорошая, да и звон хоро...        2   география\n",
              "199  Демидов выиграл в карты хохлов. А это время за...        2  персоналии\n",
              "205  Проходил он здесь, проходил. Дед не раз говори...        2  персоналии\n",
              "210  Но вот раньше по-другому все было. Ходили мы д...        2        труд"
            ],
            "text/html": [
              "\n",
              "  <div id=\"df-8a873379-15fe-4f9a-9cfe-7f35eb1c7772\">\n",
              "    <div class=\"colab-df-container\">\n",
              "      <div>\n",
              "<style scoped>\n",
              "    .dataframe tbody tr th:only-of-type {\n",
              "        vertical-align: middle;\n",
              "    }\n",
              "\n",
              "    .dataframe tbody tr th {\n",
              "        vertical-align: top;\n",
              "    }\n",
              "\n",
              "    .dataframe thead th {\n",
              "        text-align: right;\n",
              "    }\n",
              "</style>\n",
              "<table border=\"1\" class=\"dataframe\">\n",
              "  <thead>\n",
              "    <tr style=\"text-align: right;\">\n",
              "      <th></th>\n",
              "      <th>text</th>\n",
              "      <th>cluster</th>\n",
              "      <th>tag</th>\n",
              "    </tr>\n",
              "  </thead>\n",
              "  <tbody>\n",
              "    <tr>\n",
              "      <th>57</th>\n",
              "      <td>Раньше как золото добывали? Копали совсем на п...</td>\n",
              "      <td>2</td>\n",
              "      <td>труд</td>\n",
              "    </tr>\n",
              "    <tr>\n",
              "      <th>88</th>\n",
              "      <td>Дворы, в которых была одна корова лошадь, птиц...</td>\n",
              "      <td>2</td>\n",
              "      <td>труд</td>\n",
              "    </tr>\n",
              "    <tr>\n",
              "      <th>149</th>\n",
              "      <td>Симонов был очень богат. Однажды он попросил А...</td>\n",
              "      <td>2</td>\n",
              "      <td>персоналии</td>\n",
              "    </tr>\n",
              "    <tr>\n",
              "      <th>152</th>\n",
              "      <td>Штейгер-было самое влиятельное лицо, он руково...</td>\n",
              "      <td>2</td>\n",
              "      <td>персоналии</td>\n",
              "    </tr>\n",
              "    <tr>\n",
              "      <th>156</th>\n",
              "      <td>Пышминцы-кулачники. Смолу гнали, бондари хорош...</td>\n",
              "      <td>2</td>\n",
              "      <td>труд</td>\n",
              "    </tr>\n",
              "    <tr>\n",
              "      <th>158</th>\n",
              "      <td>Мать моя, Елизавета Митрофановна была подпольщ...</td>\n",
              "      <td>2</td>\n",
              "      <td>персоналии</td>\n",
              "    </tr>\n",
              "    <tr>\n",
              "      <th>180</th>\n",
              "      <td>Где от Урала мост, там пруд был. И по праву ст...</td>\n",
              "      <td>2</td>\n",
              "      <td>география</td>\n",
              "    </tr>\n",
              "    <tr>\n",
              "      <th>191</th>\n",
              "      <td>Работала у нас девушка, я через нее и пострада...</td>\n",
              "      <td>2</td>\n",
              "      <td>труд</td>\n",
              "    </tr>\n",
              "    <tr>\n",
              "      <th>193</th>\n",
              "      <td>В мае 1918г была здесь массовка, большевики хо...</td>\n",
              "      <td>2</td>\n",
              "      <td>персоналии</td>\n",
              "    </tr>\n",
              "    <tr>\n",
              "      <th>195</th>\n",
              "      <td>У нас здесь в центре церковь была, так она уж ...</td>\n",
              "      <td>2</td>\n",
              "      <td>география</td>\n",
              "    </tr>\n",
              "    <tr>\n",
              "      <th>196</th>\n",
              "      <td>Памятник видели на площади героям гражданской ...</td>\n",
              "      <td>2</td>\n",
              "      <td>персоналии</td>\n",
              "    </tr>\n",
              "    <tr>\n",
              "      <th>197</th>\n",
              "      <td>Церковь была  большая, хорошая, да и звон хоро...</td>\n",
              "      <td>2</td>\n",
              "      <td>география</td>\n",
              "    </tr>\n",
              "    <tr>\n",
              "      <th>199</th>\n",
              "      <td>Демидов выиграл в карты хохлов. А это время за...</td>\n",
              "      <td>2</td>\n",
              "      <td>персоналии</td>\n",
              "    </tr>\n",
              "    <tr>\n",
              "      <th>205</th>\n",
              "      <td>Проходил он здесь, проходил. Дед не раз говори...</td>\n",
              "      <td>2</td>\n",
              "      <td>персоналии</td>\n",
              "    </tr>\n",
              "    <tr>\n",
              "      <th>210</th>\n",
              "      <td>Но вот раньше по-другому все было. Ходили мы д...</td>\n",
              "      <td>2</td>\n",
              "      <td>труд</td>\n",
              "    </tr>\n",
              "  </tbody>\n",
              "</table>\n",
              "</div>\n",
              "      <button class=\"colab-df-convert\" onclick=\"convertToInteractive('df-8a873379-15fe-4f9a-9cfe-7f35eb1c7772')\"\n",
              "              title=\"Convert this dataframe to an interactive table.\"\n",
              "              style=\"display:none;\">\n",
              "        \n",
              "  <svg xmlns=\"http://www.w3.org/2000/svg\" height=\"24px\"viewBox=\"0 0 24 24\"\n",
              "       width=\"24px\">\n",
              "    <path d=\"M0 0h24v24H0V0z\" fill=\"none\"/>\n",
              "    <path d=\"M18.56 5.44l.94 2.06.94-2.06 2.06-.94-2.06-.94-.94-2.06-.94 2.06-2.06.94zm-11 1L8.5 8.5l.94-2.06 2.06-.94-2.06-.94L8.5 2.5l-.94 2.06-2.06.94zm10 10l.94 2.06.94-2.06 2.06-.94-2.06-.94-.94-2.06-.94 2.06-2.06.94z\"/><path d=\"M17.41 7.96l-1.37-1.37c-.4-.4-.92-.59-1.43-.59-.52 0-1.04.2-1.43.59L10.3 9.45l-7.72 7.72c-.78.78-.78 2.05 0 2.83L4 21.41c.39.39.9.59 1.41.59.51 0 1.02-.2 1.41-.59l7.78-7.78 2.81-2.81c.8-.78.8-2.07 0-2.86zM5.41 20L4 18.59l7.72-7.72 1.47 1.35L5.41 20z\"/>\n",
              "  </svg>\n",
              "      </button>\n",
              "      \n",
              "  <style>\n",
              "    .colab-df-container {\n",
              "      display:flex;\n",
              "      flex-wrap:wrap;\n",
              "      gap: 12px;\n",
              "    }\n",
              "\n",
              "    .colab-df-convert {\n",
              "      background-color: #E8F0FE;\n",
              "      border: none;\n",
              "      border-radius: 50%;\n",
              "      cursor: pointer;\n",
              "      display: none;\n",
              "      fill: #1967D2;\n",
              "      height: 32px;\n",
              "      padding: 0 0 0 0;\n",
              "      width: 32px;\n",
              "    }\n",
              "\n",
              "    .colab-df-convert:hover {\n",
              "      background-color: #E2EBFA;\n",
              "      box-shadow: 0px 1px 2px rgba(60, 64, 67, 0.3), 0px 1px 3px 1px rgba(60, 64, 67, 0.15);\n",
              "      fill: #174EA6;\n",
              "    }\n",
              "\n",
              "    [theme=dark] .colab-df-convert {\n",
              "      background-color: #3B4455;\n",
              "      fill: #D2E3FC;\n",
              "    }\n",
              "\n",
              "    [theme=dark] .colab-df-convert:hover {\n",
              "      background-color: #434B5C;\n",
              "      box-shadow: 0px 1px 3px 1px rgba(0, 0, 0, 0.15);\n",
              "      filter: drop-shadow(0px 1px 2px rgba(0, 0, 0, 0.3));\n",
              "      fill: #FFFFFF;\n",
              "    }\n",
              "  </style>\n",
              "\n",
              "      <script>\n",
              "        const buttonEl =\n",
              "          document.querySelector('#df-8a873379-15fe-4f9a-9cfe-7f35eb1c7772 button.colab-df-convert');\n",
              "        buttonEl.style.display =\n",
              "          google.colab.kernel.accessAllowed ? 'block' : 'none';\n",
              "\n",
              "        async function convertToInteractive(key) {\n",
              "          const element = document.querySelector('#df-8a873379-15fe-4f9a-9cfe-7f35eb1c7772');\n",
              "          const dataTable =\n",
              "            await google.colab.kernel.invokeFunction('convertToInteractive',\n",
              "                                                     [key], {});\n",
              "          if (!dataTable) return;\n",
              "\n",
              "          const docLinkHtml = 'Like what you see? Visit the ' +\n",
              "            '<a target=\"_blank\" href=https://colab.research.google.com/notebooks/data_table.ipynb>data table notebook</a>'\n",
              "            + ' to learn more about interactive tables.';\n",
              "          element.innerHTML = '';\n",
              "          dataTable['output_type'] = 'display_data';\n",
              "          await google.colab.output.renderOutput(dataTable, element);\n",
              "          const docLink = document.createElement('div');\n",
              "          docLink.innerHTML = docLinkHtml;\n",
              "          element.appendChild(docLink);\n",
              "        }\n",
              "      </script>\n",
              "    </div>\n",
              "  </div>\n",
              "  "
            ]
          },
          "metadata": {},
          "execution_count": 65
        }
      ]
    },
    {
      "cell_type": "code",
      "source": [
        "dd_4 = dd_classification.query(\"\"\"cluster == 3\"\"\")\n",
        "dd_4.head(15)"
      ],
      "metadata": {
        "colab": {
          "base_uri": "https://localhost:8080/",
          "height": 519
        },
        "id": "jyMPwQp9pdQD",
        "outputId": "ee21e77b-578e-420d-e70b-52ee52c49272"
      },
      "execution_count": 66,
      "outputs": [
        {
          "output_type": "execute_result",
          "data": {
            "text/plain": [
              "                                                 text  cluster         tag\n",
              "28  В няньках жила после школы. При мне трое родил...        3        труд\n",
              "34  Мама рассказывала, здесь она родилась, дядюшка...        3        труд\n",
              "35  Отец мой старатель был, здешний, урожденец. Он...        3        труд\n",
              "37  А не было у нас такого, чтобы отец много зараб...        3        труд\n",
              "46  Когда революция началась, народ обрадовался, н...        3  персоналии\n",
              "56  В войну в нашей шахте женщины в забоях работал...        3        труд\n",
              "59  Про Ермака люди сказывали, часто сказывали, а ...        3  персоналии\n",
              "61  Была у нас Низменна шахта, людей туда сбрасыва...        3        труд\n",
              "64  Старики говорили, что во время революции в Ком...        3  персоналии\n",
              "70  В нашей улице хозяйничали \"партизаны\": это ста...        3        труд\n",
              "73  Улица Уральская раньше называлась Трапезниково...        3   география\n",
              "74  Золотину найти считалось в народе большим счас...        3        труд\n",
              "82  На работу можно идти с любым человеком. Какая ...        3        труд\n",
              "83  Разработка теперь другая, чем прежде. Но до ше...        3        труд\n",
              "84  А вот приходит в шахту молодой рабочий. Он еще...        3        труд"
            ],
            "text/html": [
              "\n",
              "  <div id=\"df-74b706de-7336-4caa-8024-152869e53008\">\n",
              "    <div class=\"colab-df-container\">\n",
              "      <div>\n",
              "<style scoped>\n",
              "    .dataframe tbody tr th:only-of-type {\n",
              "        vertical-align: middle;\n",
              "    }\n",
              "\n",
              "    .dataframe tbody tr th {\n",
              "        vertical-align: top;\n",
              "    }\n",
              "\n",
              "    .dataframe thead th {\n",
              "        text-align: right;\n",
              "    }\n",
              "</style>\n",
              "<table border=\"1\" class=\"dataframe\">\n",
              "  <thead>\n",
              "    <tr style=\"text-align: right;\">\n",
              "      <th></th>\n",
              "      <th>text</th>\n",
              "      <th>cluster</th>\n",
              "      <th>tag</th>\n",
              "    </tr>\n",
              "  </thead>\n",
              "  <tbody>\n",
              "    <tr>\n",
              "      <th>28</th>\n",
              "      <td>В няньках жила после школы. При мне трое родил...</td>\n",
              "      <td>3</td>\n",
              "      <td>труд</td>\n",
              "    </tr>\n",
              "    <tr>\n",
              "      <th>34</th>\n",
              "      <td>Мама рассказывала, здесь она родилась, дядюшка...</td>\n",
              "      <td>3</td>\n",
              "      <td>труд</td>\n",
              "    </tr>\n",
              "    <tr>\n",
              "      <th>35</th>\n",
              "      <td>Отец мой старатель был, здешний, урожденец. Он...</td>\n",
              "      <td>3</td>\n",
              "      <td>труд</td>\n",
              "    </tr>\n",
              "    <tr>\n",
              "      <th>37</th>\n",
              "      <td>А не было у нас такого, чтобы отец много зараб...</td>\n",
              "      <td>3</td>\n",
              "      <td>труд</td>\n",
              "    </tr>\n",
              "    <tr>\n",
              "      <th>46</th>\n",
              "      <td>Когда революция началась, народ обрадовался, н...</td>\n",
              "      <td>3</td>\n",
              "      <td>персоналии</td>\n",
              "    </tr>\n",
              "    <tr>\n",
              "      <th>56</th>\n",
              "      <td>В войну в нашей шахте женщины в забоях работал...</td>\n",
              "      <td>3</td>\n",
              "      <td>труд</td>\n",
              "    </tr>\n",
              "    <tr>\n",
              "      <th>59</th>\n",
              "      <td>Про Ермака люди сказывали, часто сказывали, а ...</td>\n",
              "      <td>3</td>\n",
              "      <td>персоналии</td>\n",
              "    </tr>\n",
              "    <tr>\n",
              "      <th>61</th>\n",
              "      <td>Была у нас Низменна шахта, людей туда сбрасыва...</td>\n",
              "      <td>3</td>\n",
              "      <td>труд</td>\n",
              "    </tr>\n",
              "    <tr>\n",
              "      <th>64</th>\n",
              "      <td>Старики говорили, что во время революции в Ком...</td>\n",
              "      <td>3</td>\n",
              "      <td>персоналии</td>\n",
              "    </tr>\n",
              "    <tr>\n",
              "      <th>70</th>\n",
              "      <td>В нашей улице хозяйничали \"партизаны\": это ста...</td>\n",
              "      <td>3</td>\n",
              "      <td>труд</td>\n",
              "    </tr>\n",
              "    <tr>\n",
              "      <th>73</th>\n",
              "      <td>Улица Уральская раньше называлась Трапезниково...</td>\n",
              "      <td>3</td>\n",
              "      <td>география</td>\n",
              "    </tr>\n",
              "    <tr>\n",
              "      <th>74</th>\n",
              "      <td>Золотину найти считалось в народе большим счас...</td>\n",
              "      <td>3</td>\n",
              "      <td>труд</td>\n",
              "    </tr>\n",
              "    <tr>\n",
              "      <th>82</th>\n",
              "      <td>На работу можно идти с любым человеком. Какая ...</td>\n",
              "      <td>3</td>\n",
              "      <td>труд</td>\n",
              "    </tr>\n",
              "    <tr>\n",
              "      <th>83</th>\n",
              "      <td>Разработка теперь другая, чем прежде. Но до ше...</td>\n",
              "      <td>3</td>\n",
              "      <td>труд</td>\n",
              "    </tr>\n",
              "    <tr>\n",
              "      <th>84</th>\n",
              "      <td>А вот приходит в шахту молодой рабочий. Он еще...</td>\n",
              "      <td>3</td>\n",
              "      <td>труд</td>\n",
              "    </tr>\n",
              "  </tbody>\n",
              "</table>\n",
              "</div>\n",
              "      <button class=\"colab-df-convert\" onclick=\"convertToInteractive('df-74b706de-7336-4caa-8024-152869e53008')\"\n",
              "              title=\"Convert this dataframe to an interactive table.\"\n",
              "              style=\"display:none;\">\n",
              "        \n",
              "  <svg xmlns=\"http://www.w3.org/2000/svg\" height=\"24px\"viewBox=\"0 0 24 24\"\n",
              "       width=\"24px\">\n",
              "    <path d=\"M0 0h24v24H0V0z\" fill=\"none\"/>\n",
              "    <path d=\"M18.56 5.44l.94 2.06.94-2.06 2.06-.94-2.06-.94-.94-2.06-.94 2.06-2.06.94zm-11 1L8.5 8.5l.94-2.06 2.06-.94-2.06-.94L8.5 2.5l-.94 2.06-2.06.94zm10 10l.94 2.06.94-2.06 2.06-.94-2.06-.94-.94-2.06-.94 2.06-2.06.94z\"/><path d=\"M17.41 7.96l-1.37-1.37c-.4-.4-.92-.59-1.43-.59-.52 0-1.04.2-1.43.59L10.3 9.45l-7.72 7.72c-.78.78-.78 2.05 0 2.83L4 21.41c.39.39.9.59 1.41.59.51 0 1.02-.2 1.41-.59l7.78-7.78 2.81-2.81c.8-.78.8-2.07 0-2.86zM5.41 20L4 18.59l7.72-7.72 1.47 1.35L5.41 20z\"/>\n",
              "  </svg>\n",
              "      </button>\n",
              "      \n",
              "  <style>\n",
              "    .colab-df-container {\n",
              "      display:flex;\n",
              "      flex-wrap:wrap;\n",
              "      gap: 12px;\n",
              "    }\n",
              "\n",
              "    .colab-df-convert {\n",
              "      background-color: #E8F0FE;\n",
              "      border: none;\n",
              "      border-radius: 50%;\n",
              "      cursor: pointer;\n",
              "      display: none;\n",
              "      fill: #1967D2;\n",
              "      height: 32px;\n",
              "      padding: 0 0 0 0;\n",
              "      width: 32px;\n",
              "    }\n",
              "\n",
              "    .colab-df-convert:hover {\n",
              "      background-color: #E2EBFA;\n",
              "      box-shadow: 0px 1px 2px rgba(60, 64, 67, 0.3), 0px 1px 3px 1px rgba(60, 64, 67, 0.15);\n",
              "      fill: #174EA6;\n",
              "    }\n",
              "\n",
              "    [theme=dark] .colab-df-convert {\n",
              "      background-color: #3B4455;\n",
              "      fill: #D2E3FC;\n",
              "    }\n",
              "\n",
              "    [theme=dark] .colab-df-convert:hover {\n",
              "      background-color: #434B5C;\n",
              "      box-shadow: 0px 1px 3px 1px rgba(0, 0, 0, 0.15);\n",
              "      filter: drop-shadow(0px 1px 2px rgba(0, 0, 0, 0.3));\n",
              "      fill: #FFFFFF;\n",
              "    }\n",
              "  </style>\n",
              "\n",
              "      <script>\n",
              "        const buttonEl =\n",
              "          document.querySelector('#df-74b706de-7336-4caa-8024-152869e53008 button.colab-df-convert');\n",
              "        buttonEl.style.display =\n",
              "          google.colab.kernel.accessAllowed ? 'block' : 'none';\n",
              "\n",
              "        async function convertToInteractive(key) {\n",
              "          const element = document.querySelector('#df-74b706de-7336-4caa-8024-152869e53008');\n",
              "          const dataTable =\n",
              "            await google.colab.kernel.invokeFunction('convertToInteractive',\n",
              "                                                     [key], {});\n",
              "          if (!dataTable) return;\n",
              "\n",
              "          const docLinkHtml = 'Like what you see? Visit the ' +\n",
              "            '<a target=\"_blank\" href=https://colab.research.google.com/notebooks/data_table.ipynb>data table notebook</a>'\n",
              "            + ' to learn more about interactive tables.';\n",
              "          element.innerHTML = '';\n",
              "          dataTable['output_type'] = 'display_data';\n",
              "          await google.colab.output.renderOutput(dataTable, element);\n",
              "          const docLink = document.createElement('div');\n",
              "          docLink.innerHTML = docLinkHtml;\n",
              "          element.appendChild(docLink);\n",
              "        }\n",
              "      </script>\n",
              "    </div>\n",
              "  </div>\n",
              "  "
            ]
          },
          "metadata": {},
          "execution_count": 66
        }
      ]
    },
    {
      "cell_type": "markdown",
      "source": [
        "Второй задачей было узнать, какие слова модель посчитает ключевой по итогам кластеризации. Для этого построим линейную модель и изучим, что есть у нее внутри."
      ],
      "metadata": {
        "id": "qxe4faytkDCk"
      }
    },
    {
      "cell_type": "code",
      "source": [
        "from sklearn.pipeline import Pipeline\n",
        "from sklearn.feature_extraction.text import TfidfVectorizer\n",
        "from sklearn.linear_model import LogisticRegression"
      ],
      "metadata": {
        "id": "WlShutjBBlF6"
      },
      "execution_count": 40,
      "outputs": []
    },
    {
      "cell_type": "code",
      "source": [
        "final_vectorizer = TfidfVectorizer(lowercase=True, stop_words=russian_stopwords)"
      ],
      "metadata": {
        "id": "9bjCDJRqisWH"
      },
      "execution_count": 41,
      "outputs": []
    },
    {
      "cell_type": "code",
      "source": [
        "log_model = LogisticRegression()"
      ],
      "metadata": {
        "id": "I4KNo-KTisS6"
      },
      "execution_count": 42,
      "outputs": []
    },
    {
      "cell_type": "code",
      "source": [
        "final_pipeline = Pipeline(steps=[('vectorizer', final_vectorizer), ('model', log_model)])"
      ],
      "metadata": {
        "id": "xR4aEU3FlVU0"
      },
      "execution_count": 43,
      "outputs": []
    },
    {
      "cell_type": "code",
      "source": [
        "X = [' '.join(map(str, l)) for l in dialectdata['text_clean']]\n",
        "y = dd_classification['cluster']"
      ],
      "metadata": {
        "id": "t7V2Dg34isYz"
      },
      "execution_count": 44,
      "outputs": []
    },
    {
      "cell_type": "code",
      "source": [
        "from sklearn.pipeline import Pipeline"
      ],
      "metadata": {
        "id": "qmkT2HHMlOL1"
      },
      "execution_count": 45,
      "outputs": []
    },
    {
      "cell_type": "code",
      "source": [
        "final_pipeline.fit(X, y)"
      ],
      "metadata": {
        "colab": {
          "base_uri": "https://localhost:8080/",
          "height": 127
        },
        "id": "R206TrAhisQe",
        "outputId": "17e9c1b1-9999-48da-c82d-3a0c08545189"
      },
      "execution_count": 46,
      "outputs": [
        {
          "output_type": "execute_result",
          "data": {
            "text/plain": [
              "Pipeline(steps=[('vectorizer',\n",
              "                 TfidfVectorizer(stop_words=['и', 'в', 'во', 'не', 'что', 'он',\n",
              "                                             'на', 'я', 'с', 'со', 'как', 'а',\n",
              "                                             'то', 'все', 'она', 'так', 'его',\n",
              "                                             'но', 'да', 'ты', 'к', 'у', 'же',\n",
              "                                             'вы', 'за', 'бы', 'по', 'только',\n",
              "                                             'ее', 'мне', ...])),\n",
              "                ('model', LogisticRegression())])"
            ],
            "text/html": [
              "<style>#sk-container-id-1 {color: black;background-color: white;}#sk-container-id-1 pre{padding: 0;}#sk-container-id-1 div.sk-toggleable {background-color: white;}#sk-container-id-1 label.sk-toggleable__label {cursor: pointer;display: block;width: 100%;margin-bottom: 0;padding: 0.3em;box-sizing: border-box;text-align: center;}#sk-container-id-1 label.sk-toggleable__label-arrow:before {content: \"▸\";float: left;margin-right: 0.25em;color: #696969;}#sk-container-id-1 label.sk-toggleable__label-arrow:hover:before {color: black;}#sk-container-id-1 div.sk-estimator:hover label.sk-toggleable__label-arrow:before {color: black;}#sk-container-id-1 div.sk-toggleable__content {max-height: 0;max-width: 0;overflow: hidden;text-align: left;background-color: #f0f8ff;}#sk-container-id-1 div.sk-toggleable__content pre {margin: 0.2em;color: black;border-radius: 0.25em;background-color: #f0f8ff;}#sk-container-id-1 input.sk-toggleable__control:checked~div.sk-toggleable__content {max-height: 200px;max-width: 100%;overflow: auto;}#sk-container-id-1 input.sk-toggleable__control:checked~label.sk-toggleable__label-arrow:before {content: \"▾\";}#sk-container-id-1 div.sk-estimator input.sk-toggleable__control:checked~label.sk-toggleable__label {background-color: #d4ebff;}#sk-container-id-1 div.sk-label input.sk-toggleable__control:checked~label.sk-toggleable__label {background-color: #d4ebff;}#sk-container-id-1 input.sk-hidden--visually {border: 0;clip: rect(1px 1px 1px 1px);clip: rect(1px, 1px, 1px, 1px);height: 1px;margin: -1px;overflow: hidden;padding: 0;position: absolute;width: 1px;}#sk-container-id-1 div.sk-estimator {font-family: monospace;background-color: #f0f8ff;border: 1px dotted black;border-radius: 0.25em;box-sizing: border-box;margin-bottom: 0.5em;}#sk-container-id-1 div.sk-estimator:hover {background-color: #d4ebff;}#sk-container-id-1 div.sk-parallel-item::after {content: \"\";width: 100%;border-bottom: 1px solid gray;flex-grow: 1;}#sk-container-id-1 div.sk-label:hover label.sk-toggleable__label {background-color: #d4ebff;}#sk-container-id-1 div.sk-serial::before {content: \"\";position: absolute;border-left: 1px solid gray;box-sizing: border-box;top: 0;bottom: 0;left: 50%;z-index: 0;}#sk-container-id-1 div.sk-serial {display: flex;flex-direction: column;align-items: center;background-color: white;padding-right: 0.2em;padding-left: 0.2em;position: relative;}#sk-container-id-1 div.sk-item {position: relative;z-index: 1;}#sk-container-id-1 div.sk-parallel {display: flex;align-items: stretch;justify-content: center;background-color: white;position: relative;}#sk-container-id-1 div.sk-item::before, #sk-container-id-1 div.sk-parallel-item::before {content: \"\";position: absolute;border-left: 1px solid gray;box-sizing: border-box;top: 0;bottom: 0;left: 50%;z-index: -1;}#sk-container-id-1 div.sk-parallel-item {display: flex;flex-direction: column;z-index: 1;position: relative;background-color: white;}#sk-container-id-1 div.sk-parallel-item:first-child::after {align-self: flex-end;width: 50%;}#sk-container-id-1 div.sk-parallel-item:last-child::after {align-self: flex-start;width: 50%;}#sk-container-id-1 div.sk-parallel-item:only-child::after {width: 0;}#sk-container-id-1 div.sk-dashed-wrapped {border: 1px dashed gray;margin: 0 0.4em 0.5em 0.4em;box-sizing: border-box;padding-bottom: 0.4em;background-color: white;}#sk-container-id-1 div.sk-label label {font-family: monospace;font-weight: bold;display: inline-block;line-height: 1.2em;}#sk-container-id-1 div.sk-label-container {text-align: center;}#sk-container-id-1 div.sk-container {/* jupyter's `normalize.less` sets `[hidden] { display: none; }` but bootstrap.min.css set `[hidden] { display: none !important; }` so we also need the `!important` here to be able to override the default hidden behavior on the sphinx rendered scikit-learn.org. See: https://github.com/scikit-learn/scikit-learn/issues/21755 */display: inline-block !important;position: relative;}#sk-container-id-1 div.sk-text-repr-fallback {display: none;}</style><div id=\"sk-container-id-1\" class=\"sk-top-container\"><div class=\"sk-text-repr-fallback\"><pre>Pipeline(steps=[(&#x27;vectorizer&#x27;,\n",
              "                 TfidfVectorizer(stop_words=[&#x27;и&#x27;, &#x27;в&#x27;, &#x27;во&#x27;, &#x27;не&#x27;, &#x27;что&#x27;, &#x27;он&#x27;,\n",
              "                                             &#x27;на&#x27;, &#x27;я&#x27;, &#x27;с&#x27;, &#x27;со&#x27;, &#x27;как&#x27;, &#x27;а&#x27;,\n",
              "                                             &#x27;то&#x27;, &#x27;все&#x27;, &#x27;она&#x27;, &#x27;так&#x27;, &#x27;его&#x27;,\n",
              "                                             &#x27;но&#x27;, &#x27;да&#x27;, &#x27;ты&#x27;, &#x27;к&#x27;, &#x27;у&#x27;, &#x27;же&#x27;,\n",
              "                                             &#x27;вы&#x27;, &#x27;за&#x27;, &#x27;бы&#x27;, &#x27;по&#x27;, &#x27;только&#x27;,\n",
              "                                             &#x27;ее&#x27;, &#x27;мне&#x27;, ...])),\n",
              "                (&#x27;model&#x27;, LogisticRegression())])</pre><b>In a Jupyter environment, please rerun this cell to show the HTML representation or trust the notebook. <br />On GitHub, the HTML representation is unable to render, please try loading this page with nbviewer.org.</b></div><div class=\"sk-container\" hidden><div class=\"sk-item sk-dashed-wrapped\"><div class=\"sk-label-container\"><div class=\"sk-label sk-toggleable\"><input class=\"sk-toggleable__control sk-hidden--visually\" id=\"sk-estimator-id-1\" type=\"checkbox\" ><label for=\"sk-estimator-id-1\" class=\"sk-toggleable__label sk-toggleable__label-arrow\">Pipeline</label><div class=\"sk-toggleable__content\"><pre>Pipeline(steps=[(&#x27;vectorizer&#x27;,\n",
              "                 TfidfVectorizer(stop_words=[&#x27;и&#x27;, &#x27;в&#x27;, &#x27;во&#x27;, &#x27;не&#x27;, &#x27;что&#x27;, &#x27;он&#x27;,\n",
              "                                             &#x27;на&#x27;, &#x27;я&#x27;, &#x27;с&#x27;, &#x27;со&#x27;, &#x27;как&#x27;, &#x27;а&#x27;,\n",
              "                                             &#x27;то&#x27;, &#x27;все&#x27;, &#x27;она&#x27;, &#x27;так&#x27;, &#x27;его&#x27;,\n",
              "                                             &#x27;но&#x27;, &#x27;да&#x27;, &#x27;ты&#x27;, &#x27;к&#x27;, &#x27;у&#x27;, &#x27;же&#x27;,\n",
              "                                             &#x27;вы&#x27;, &#x27;за&#x27;, &#x27;бы&#x27;, &#x27;по&#x27;, &#x27;только&#x27;,\n",
              "                                             &#x27;ее&#x27;, &#x27;мне&#x27;, ...])),\n",
              "                (&#x27;model&#x27;, LogisticRegression())])</pre></div></div></div><div class=\"sk-serial\"><div class=\"sk-item\"><div class=\"sk-estimator sk-toggleable\"><input class=\"sk-toggleable__control sk-hidden--visually\" id=\"sk-estimator-id-2\" type=\"checkbox\" ><label for=\"sk-estimator-id-2\" class=\"sk-toggleable__label sk-toggleable__label-arrow\">TfidfVectorizer</label><div class=\"sk-toggleable__content\"><pre>TfidfVectorizer(stop_words=[&#x27;и&#x27;, &#x27;в&#x27;, &#x27;во&#x27;, &#x27;не&#x27;, &#x27;что&#x27;, &#x27;он&#x27;, &#x27;на&#x27;, &#x27;я&#x27;, &#x27;с&#x27;,\n",
              "                            &#x27;со&#x27;, &#x27;как&#x27;, &#x27;а&#x27;, &#x27;то&#x27;, &#x27;все&#x27;, &#x27;она&#x27;, &#x27;так&#x27;, &#x27;его&#x27;,\n",
              "                            &#x27;но&#x27;, &#x27;да&#x27;, &#x27;ты&#x27;, &#x27;к&#x27;, &#x27;у&#x27;, &#x27;же&#x27;, &#x27;вы&#x27;, &#x27;за&#x27;, &#x27;бы&#x27;,\n",
              "                            &#x27;по&#x27;, &#x27;только&#x27;, &#x27;ее&#x27;, &#x27;мне&#x27;, ...])</pre></div></div></div><div class=\"sk-item\"><div class=\"sk-estimator sk-toggleable\"><input class=\"sk-toggleable__control sk-hidden--visually\" id=\"sk-estimator-id-3\" type=\"checkbox\" ><label for=\"sk-estimator-id-3\" class=\"sk-toggleable__label sk-toggleable__label-arrow\">LogisticRegression</label><div class=\"sk-toggleable__content\"><pre>LogisticRegression()</pre></div></div></div></div></div></div></div>"
            ]
          },
          "metadata": {},
          "execution_count": 46
        }
      ]
    },
    {
      "cell_type": "code",
      "source": [
        "lin_model_coef = final_pipeline.get_params()['model'].coef_[0]\n",
        "lin_model_coef"
      ],
      "metadata": {
        "id": "Ynf7gl_Bvqfc",
        "colab": {
          "base_uri": "https://localhost:8080/"
        },
        "outputId": "e9a6f632-2969-4ff8-ab7c-4a1fcc7b9032"
      },
      "execution_count": 47,
      "outputs": [
        {
          "output_type": "execute_result",
          "data": {
            "text/plain": [
              "array([ 0.01310007,  0.02627071, -0.01939323, ..., -0.0426707 ,\n",
              "       -0.01173071, -0.00951784])"
            ]
          },
          "metadata": {},
          "execution_count": 47
        }
      ]
    },
    {
      "cell_type": "code",
      "source": [
        "tfidfmapping = final_pipeline.get_params()['vectorizer'].vocabulary_"
      ],
      "metadata": {
        "id": "nqTFvcRpisOB"
      },
      "execution_count": 48,
      "outputs": []
    },
    {
      "cell_type": "code",
      "source": [
        "tfidf_map=[(x,tfidfmapping[x]) for x in tfidfmapping]\n",
        "tfidf_map[:10]"
      ],
      "metadata": {
        "id": "XAtcGHaxisLZ",
        "colab": {
          "base_uri": "https://localhost:8080/"
        },
        "outputId": "8e1f7406-b897-46a6-9445-302043822eef"
      },
      "execution_count": 49,
      "outputs": [
        {
          "output_type": "execute_result",
          "data": {
            "text/plain": [
              "[('становая', 9328),\n",
              " ('названа', 4937),\n",
              " ('пугачев', 7730),\n",
              " ('проходил', 7683),\n",
              " ('раненые', 8002),\n",
              " ('больные', 583),\n",
              " ('долго', 2171),\n",
              " ('стояли', 9473),\n",
              " ('шарташ', 10826),\n",
              " ('раньше', 8011)]"
            ]
          },
          "metadata": {},
          "execution_count": 49
        }
      ]
    },
    {
      "cell_type": "code",
      "source": [
        "tfidf_map.sort(key=lambda x: x[1])"
      ],
      "metadata": {
        "id": "1zbEkhfnisIr"
      },
      "execution_count": 50,
      "outputs": []
    },
    {
      "cell_type": "code",
      "source": [
        "vocab_tfidf = [x[0] for x in tfidf_map]\n",
        "vocab_tfidf = np.array(vocab_tfidf)\n",
        "vocab_tfidf"
      ],
      "metadata": {
        "id": "wL3mEfX4isF9",
        "colab": {
          "base_uri": "https://localhost:8080/"
        },
        "outputId": "b79a8145-4565-4701-c9c5-24eddd366c9d"
      },
      "execution_count": 51,
      "outputs": [
        {
          "output_type": "execute_result",
          "data": {
            "text/plain": [
              "array(['10', '100', '1000', ..., 'ёлочка', 'ём', 'ёрзали'], dtype='<U20')"
            ]
          },
          "metadata": {},
          "execution_count": 51
        }
      ]
    },
    {
      "cell_type": "code",
      "source": [
        "coef_df = pd.DataFrame(zip(vocab_tfidf, lin_model_coef), columns=['word', 'coef'])"
      ],
      "metadata": {
        "id": "o1A400dFisDW"
      },
      "execution_count": 52,
      "outputs": []
    },
    {
      "cell_type": "code",
      "source": [
        "coef_df.sort_values(by='coef', ascending=False).head(100)"
      ],
      "metadata": {
        "colab": {
          "base_uri": "https://localhost:8080/",
          "height": 423
        },
        "id": "B5ovLNoHisAu",
        "outputId": "be0585e8-688c-47a9-d9a3-c06e61bea4ad"
      },
      "execution_count": 70,
      "outputs": [
        {
          "output_type": "execute_result",
          "data": {
            "text/plain": [
              "              word      coef\n",
              "3063        золото  0.943487\n",
              "10842        шахту  0.893674\n",
              "10837        шахте  0.841057\n",
              "418    березовский  0.831566\n",
              "5533   образовался  0.746723\n",
              "...            ...       ...\n",
              "5129       находил  0.309211\n",
              "9656        тагила  0.308076\n",
              "5007          нами  0.306416\n",
              "6394       пленные  0.306336\n",
              "10734         чехи  0.306061\n",
              "\n",
              "[100 rows x 2 columns]"
            ],
            "text/html": [
              "\n",
              "  <div id=\"df-7f775476-80a6-46ca-9f33-0c448343dbc6\">\n",
              "    <div class=\"colab-df-container\">\n",
              "      <div>\n",
              "<style scoped>\n",
              "    .dataframe tbody tr th:only-of-type {\n",
              "        vertical-align: middle;\n",
              "    }\n",
              "\n",
              "    .dataframe tbody tr th {\n",
              "        vertical-align: top;\n",
              "    }\n",
              "\n",
              "    .dataframe thead th {\n",
              "        text-align: right;\n",
              "    }\n",
              "</style>\n",
              "<table border=\"1\" class=\"dataframe\">\n",
              "  <thead>\n",
              "    <tr style=\"text-align: right;\">\n",
              "      <th></th>\n",
              "      <th>word</th>\n",
              "      <th>coef</th>\n",
              "    </tr>\n",
              "  </thead>\n",
              "  <tbody>\n",
              "    <tr>\n",
              "      <th>3063</th>\n",
              "      <td>золото</td>\n",
              "      <td>0.943487</td>\n",
              "    </tr>\n",
              "    <tr>\n",
              "      <th>10842</th>\n",
              "      <td>шахту</td>\n",
              "      <td>0.893674</td>\n",
              "    </tr>\n",
              "    <tr>\n",
              "      <th>10837</th>\n",
              "      <td>шахте</td>\n",
              "      <td>0.841057</td>\n",
              "    </tr>\n",
              "    <tr>\n",
              "      <th>418</th>\n",
              "      <td>березовский</td>\n",
              "      <td>0.831566</td>\n",
              "    </tr>\n",
              "    <tr>\n",
              "      <th>5533</th>\n",
              "      <td>образовался</td>\n",
              "      <td>0.746723</td>\n",
              "    </tr>\n",
              "    <tr>\n",
              "      <th>...</th>\n",
              "      <td>...</td>\n",
              "      <td>...</td>\n",
              "    </tr>\n",
              "    <tr>\n",
              "      <th>5129</th>\n",
              "      <td>находил</td>\n",
              "      <td>0.309211</td>\n",
              "    </tr>\n",
              "    <tr>\n",
              "      <th>9656</th>\n",
              "      <td>тагила</td>\n",
              "      <td>0.308076</td>\n",
              "    </tr>\n",
              "    <tr>\n",
              "      <th>5007</th>\n",
              "      <td>нами</td>\n",
              "      <td>0.306416</td>\n",
              "    </tr>\n",
              "    <tr>\n",
              "      <th>6394</th>\n",
              "      <td>пленные</td>\n",
              "      <td>0.306336</td>\n",
              "    </tr>\n",
              "    <tr>\n",
              "      <th>10734</th>\n",
              "      <td>чехи</td>\n",
              "      <td>0.306061</td>\n",
              "    </tr>\n",
              "  </tbody>\n",
              "</table>\n",
              "<p>100 rows × 2 columns</p>\n",
              "</div>\n",
              "      <button class=\"colab-df-convert\" onclick=\"convertToInteractive('df-7f775476-80a6-46ca-9f33-0c448343dbc6')\"\n",
              "              title=\"Convert this dataframe to an interactive table.\"\n",
              "              style=\"display:none;\">\n",
              "        \n",
              "  <svg xmlns=\"http://www.w3.org/2000/svg\" height=\"24px\"viewBox=\"0 0 24 24\"\n",
              "       width=\"24px\">\n",
              "    <path d=\"M0 0h24v24H0V0z\" fill=\"none\"/>\n",
              "    <path d=\"M18.56 5.44l.94 2.06.94-2.06 2.06-.94-2.06-.94-.94-2.06-.94 2.06-2.06.94zm-11 1L8.5 8.5l.94-2.06 2.06-.94-2.06-.94L8.5 2.5l-.94 2.06-2.06.94zm10 10l.94 2.06.94-2.06 2.06-.94-2.06-.94-.94-2.06-.94 2.06-2.06.94z\"/><path d=\"M17.41 7.96l-1.37-1.37c-.4-.4-.92-.59-1.43-.59-.52 0-1.04.2-1.43.59L10.3 9.45l-7.72 7.72c-.78.78-.78 2.05 0 2.83L4 21.41c.39.39.9.59 1.41.59.51 0 1.02-.2 1.41-.59l7.78-7.78 2.81-2.81c.8-.78.8-2.07 0-2.86zM5.41 20L4 18.59l7.72-7.72 1.47 1.35L5.41 20z\"/>\n",
              "  </svg>\n",
              "      </button>\n",
              "      \n",
              "  <style>\n",
              "    .colab-df-container {\n",
              "      display:flex;\n",
              "      flex-wrap:wrap;\n",
              "      gap: 12px;\n",
              "    }\n",
              "\n",
              "    .colab-df-convert {\n",
              "      background-color: #E8F0FE;\n",
              "      border: none;\n",
              "      border-radius: 50%;\n",
              "      cursor: pointer;\n",
              "      display: none;\n",
              "      fill: #1967D2;\n",
              "      height: 32px;\n",
              "      padding: 0 0 0 0;\n",
              "      width: 32px;\n",
              "    }\n",
              "\n",
              "    .colab-df-convert:hover {\n",
              "      background-color: #E2EBFA;\n",
              "      box-shadow: 0px 1px 2px rgba(60, 64, 67, 0.3), 0px 1px 3px 1px rgba(60, 64, 67, 0.15);\n",
              "      fill: #174EA6;\n",
              "    }\n",
              "\n",
              "    [theme=dark] .colab-df-convert {\n",
              "      background-color: #3B4455;\n",
              "      fill: #D2E3FC;\n",
              "    }\n",
              "\n",
              "    [theme=dark] .colab-df-convert:hover {\n",
              "      background-color: #434B5C;\n",
              "      box-shadow: 0px 1px 3px 1px rgba(0, 0, 0, 0.15);\n",
              "      filter: drop-shadow(0px 1px 2px rgba(0, 0, 0, 0.3));\n",
              "      fill: #FFFFFF;\n",
              "    }\n",
              "  </style>\n",
              "\n",
              "      <script>\n",
              "        const buttonEl =\n",
              "          document.querySelector('#df-7f775476-80a6-46ca-9f33-0c448343dbc6 button.colab-df-convert');\n",
              "        buttonEl.style.display =\n",
              "          google.colab.kernel.accessAllowed ? 'block' : 'none';\n",
              "\n",
              "        async function convertToInteractive(key) {\n",
              "          const element = document.querySelector('#df-7f775476-80a6-46ca-9f33-0c448343dbc6');\n",
              "          const dataTable =\n",
              "            await google.colab.kernel.invokeFunction('convertToInteractive',\n",
              "                                                     [key], {});\n",
              "          if (!dataTable) return;\n",
              "\n",
              "          const docLinkHtml = 'Like what you see? Visit the ' +\n",
              "            '<a target=\"_blank\" href=https://colab.research.google.com/notebooks/data_table.ipynb>data table notebook</a>'\n",
              "            + ' to learn more about interactive tables.';\n",
              "          element.innerHTML = '';\n",
              "          dataTable['output_type'] = 'display_data';\n",
              "          await google.colab.output.renderOutput(dataTable, element);\n",
              "          const docLink = document.createElement('div');\n",
              "          docLink.innerHTML = docLinkHtml;\n",
              "          element.appendChild(docLink);\n",
              "        }\n",
              "      </script>\n",
              "    </div>\n",
              "  </div>\n",
              "  "
            ]
          },
          "metadata": {},
          "execution_count": 70
        }
      ]
    }
  ]
}