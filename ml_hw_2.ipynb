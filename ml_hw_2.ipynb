{
  "nbformat": 4,
  "nbformat_minor": 0,
  "metadata": {
    "colab": {
      "provenance": [],
      "authorship_tag": "ABX9TyPi0TeUTys6j22JRgdRMNob",
      "include_colab_link": true
    },
    "kernelspec": {
      "name": "python3",
      "display_name": "Python 3"
    },
    "language_info": {
      "name": "python"
    },
    "gpuClass": "standard"
  },
  "cells": [
    {
      "cell_type": "markdown",
      "metadata": {
        "id": "view-in-github",
        "colab_type": "text"
      },
      "source": [
        "<a href=\"https://colab.research.google.com/github/marriamaslova/ML_homeworks/blob/main/ml_hw_2.ipynb\" target=\"_parent\"><img src=\"https://colab.research.google.com/assets/colab-badge.svg\" alt=\"Open In Colab\"/></a>"
      ]
    },
    {
      "cell_type": "code",
      "execution_count": 1,
      "metadata": {
        "id": "i-cZdVRPTnc6"
      },
      "outputs": [],
      "source": [
        "# импорты необходимых библиотек\n",
        "import pandas as pd\n",
        "\n",
        "import seaborn as sns\n",
        "import matplotlib.pyplot as plt\n",
        "# %matplotlib inline\n",
        "\n",
        "# import gensim\n",
        "from gensim.models.doc2vec import Doc2Vec, TaggedDocument\n",
        "from sklearn.linear_model import LinearRegression, Ridge, Lasso\n",
        "from sklearn.preprocessing import StandardScaler\n",
        "from sklearn.model_selection import train_test_split\n",
        "from sklearn.metrics import mean_absolute_error, mean_squared_error"
      ]
    },
    {
      "cell_type": "code",
      "source": [
        "from nltk.tokenize import word_tokenize, wordpunct_tokenize"
      ],
      "metadata": {
        "id": "edaBMo2To4a0"
      },
      "execution_count": 4,
      "outputs": []
    },
    {
      "cell_type": "code",
      "source": [
        "import nltk\n",
        "nltk.download('punkt')"
      ],
      "metadata": {
        "id": "GtpwRCqLpk-Z"
      },
      "execution_count": null,
      "outputs": []
    },
    {
      "cell_type": "markdown",
      "source": [
        "Подготовка данных"
      ],
      "metadata": {
        "id": "iJHPdpaCWAxI"
      }
    },
    {
      "cell_type": "code",
      "source": [
        "data = pd.read_csv('IMDB-Movie-Data.csv')"
      ],
      "metadata": {
        "id": "gdkAmERxZOOw"
      },
      "execution_count": 6,
      "outputs": []
    },
    {
      "cell_type": "code",
      "source": [
        "meta_mean = data.Metascore.mean()\n",
        "rev_mean = data['Revenue (Millions)'].mean()"
      ],
      "metadata": {
        "id": "Xa-wLitZZUdL"
      },
      "execution_count": 7,
      "outputs": []
    },
    {
      "cell_type": "code",
      "source": [
        "data.Metascore.fillna(meta_mean, inplace=True)\n",
        "data['Revenue (Millions)'].fillna(rev_mean, inplace=True)"
      ],
      "metadata": {
        "id": "Hhlvb0CgZUax"
      },
      "execution_count": 8,
      "outputs": []
    },
    {
      "cell_type": "code",
      "source": [
        "data[\"text\"] = data.Description.apply(lambda x: word_tokenize(x))"
      ],
      "metadata": {
        "id": "ReJ-xHdkZUTp"
      },
      "execution_count": 9,
      "outputs": []
    },
    {
      "cell_type": "code",
      "source": [
        "for text in data[\"text\"]:\n",
        "  for elem in text:\n",
        "    if elem.isalnum():\n",
        "      continue\n",
        "    else:\n",
        "      text.remove(elem)"
      ],
      "metadata": {
        "id": "2UQkkcPcZUOo"
      },
      "execution_count": 10,
      "outputs": []
    },
    {
      "cell_type": "code",
      "source": [
        "input_text = list(data.text.values)\n",
        "documents = [TaggedDocument(doc, [i]) for i, doc in enumerate(input_text)]"
      ],
      "metadata": {
        "id": "2jWzfJ4uyb5L"
      },
      "execution_count": 11,
      "outputs": []
    },
    {
      "cell_type": "code",
      "source": [
        "model = Doc2Vec(documents, vector_size=5, window=3, min_count=1, workers=4)"
      ],
      "metadata": {
        "id": "BqnL3g-vyb25"
      },
      "execution_count": null,
      "outputs": []
    },
    {
      "cell_type": "code",
      "source": [
        "model.save(\"D2V.model\")"
      ],
      "metadata": {
        "id": "vLhvJngKyb0W"
      },
      "execution_count": 13,
      "outputs": []
    },
    {
      "cell_type": "code",
      "source": [
        "vectors = []\n",
        "for x in documents:\n",
        "    vec = list(model[x.tags][0])\n",
        "    vectors.append(vec)"
      ],
      "metadata": {
        "id": "DjyMnqaWybx-"
      },
      "execution_count": 14,
      "outputs": []
    },
    {
      "cell_type": "code",
      "source": [
        "split_df = pd.DataFrame(vectors,\n",
        "                        columns=['v1', 'v2', 'v3','v4',\"v5\"])"
      ],
      "metadata": {
        "id": "twRApr80ZUJ5"
      },
      "execution_count": 15,
      "outputs": []
    },
    {
      "cell_type": "code",
      "source": [
        "result = data.join(split_df, how='left')"
      ],
      "metadata": {
        "id": "vMJWnx5b2-cM"
      },
      "execution_count": 16,
      "outputs": []
    },
    {
      "cell_type": "code",
      "source": [
        "data_sm = result[[\n",
        "                'Rating', 'Votes',\n",
        "                'Revenue (Millions)', \"v1\",\"v2\",\"v3\",\"v4\",\"v5\"]\n",
        "              ] #'Runtime (Minutes)',\"Year\", 'Metascore',"
      ],
      "metadata": {
        "id": "X-FVfs7cZTzK"
      },
      "execution_count": 113,
      "outputs": []
    },
    {
      "cell_type": "markdown",
      "source": [
        "Подготовка матриц"
      ],
      "metadata": {
        "id": "kWag3kkXWFq2"
      }
    },
    {
      "cell_type": "code",
      "source": [
        "X = data_sm.drop([\"Rating\"],axis=1).values "
      ],
      "metadata": {
        "id": "FxSC9bTt48Yd"
      },
      "execution_count": 114,
      "outputs": []
    },
    {
      "cell_type": "code",
      "source": [
        "y = data_sm['Rating'].values"
      ],
      "metadata": {
        "id": "mCD3O-v0WiBq"
      },
      "execution_count": 115,
      "outputs": []
    },
    {
      "cell_type": "code",
      "source": [
        "sc = StandardScaler()\n",
        "\n",
        "X_train, X_test, y_train, y_test = train_test_split(sc.fit_transform(X), y, random_state=42)"
      ],
      "metadata": {
        "id": "yfoaQgi_WnhI"
      },
      "execution_count": 116,
      "outputs": []
    },
    {
      "cell_type": "markdown",
      "source": [
        "Обучение моделей"
      ],
      "metadata": {
        "id": "Ucsb0EvDXCat"
      }
    },
    {
      "cell_type": "markdown",
      "source": [
        "Linear Regression"
      ],
      "metadata": {
        "id": "Z6zmQg30dCUV"
      }
    },
    {
      "cell_type": "code",
      "source": [
        "regressor_1 = LinearRegression() \n",
        "regressor_1.fit(X_train, y_train)\n",
        "y_preds_1 = regressor_1.predict(X_test)"
      ],
      "metadata": {
        "id": "Di_ZK_KUWnW0"
      },
      "execution_count": 117,
      "outputs": []
    },
    {
      "cell_type": "code",
      "source": [
        "mean_absolute_error(y_test, y_preds_1) "
      ],
      "metadata": {
        "colab": {
          "base_uri": "https://localhost:8080/"
        },
        "id": "1-5-xaG-WnUt",
        "outputId": "00e504b6-b8e2-45e8-f119-f01a4706f5a2"
      },
      "execution_count": 118,
      "outputs": [
        {
          "output_type": "execute_result",
          "data": {
            "text/plain": [
              "0.6504364920232626"
            ]
          },
          "metadata": {},
          "execution_count": 118
        }
      ]
    },
    {
      "cell_type": "code",
      "source": [
        "mean_squared_error(y_test, y_preds_1) "
      ],
      "metadata": {
        "colab": {
          "base_uri": "https://localhost:8080/"
        },
        "id": "AFnxjWAtedT9",
        "outputId": "cfe31ef0-b4e3-4a8f-b824-357b207fce04"
      },
      "execution_count": 119,
      "outputs": [
        {
          "output_type": "execute_result",
          "data": {
            "text/plain": [
              "0.7384124087498499"
            ]
          },
          "metadata": {},
          "execution_count": 119
        }
      ]
    },
    {
      "cell_type": "code",
      "source": [
        "mean_squared_error(y_test, y_preds_1, squared=False) "
      ],
      "metadata": {
        "colab": {
          "base_uri": "https://localhost:8080/"
        },
        "id": "SxRGvolkedBN",
        "outputId": "f156d045-c776-4f62-f050-7451f1118a41"
      },
      "execution_count": 120,
      "outputs": [
        {
          "output_type": "execute_result",
          "data": {
            "text/plain": [
              "0.8593092625765475"
            ]
          },
          "metadata": {},
          "execution_count": 120
        }
      ]
    },
    {
      "cell_type": "markdown",
      "source": [
        "С данными, прошедшими nltk_токенизацию и удаление пунктуации:\n",
        "\n",
        "0.48844185138116986\n",
        "\n",
        "0.4680083001667433\n",
        "\n",
        "0.6841113214724218\n",
        "\n",
        "С удалением колонок 'runtime' и 'year':\n",
        "\n",
        "0.5032091385237876\n",
        "\n",
        "0.4829745484817905\n",
        "\n",
        "0.6949637029959123\n",
        "\n",
        "С удалением 'v4', 'v5':\n",
        "\n",
        "0.5035543297977305\n",
        "\n",
        "0.4833776216079181\n",
        "\n",
        "0.6952536383277099\n",
        "\n",
        "С удалением 'Metascore':\n",
        "\n",
        "0.6492394802672429\n",
        "\n",
        "0.7359858349056743\n",
        "\n",
        "0.8578961679047612\n",
        "\n",
        "С возвращением 'v4', 'v5'\n",
        "\n",
        "0.6504364920232626\n",
        "\n",
        "0.7384124087498499\n",
        "\n",
        "0.8593092625765475"
      ],
      "metadata": {
        "id": "kGsrXLJ1flcg"
      }
    },
    {
      "cell_type": "markdown",
      "source": [
        "Ridge"
      ],
      "metadata": {
        "id": "4PiAFXkXd2--"
      }
    },
    {
      "cell_type": "code",
      "source": [
        "regressor_2 = Ridge(alpha=50) \n",
        "regressor_2.fit(X_train, y_train)\n",
        "y_preds_2 = regressor_2.predict(X_test)"
      ],
      "metadata": {
        "id": "DrAlO5sMWnSK"
      },
      "execution_count": 128,
      "outputs": []
    },
    {
      "cell_type": "code",
      "source": [
        "mean_absolute_error(y_test, y_preds_2) "
      ],
      "metadata": {
        "colab": {
          "base_uri": "https://localhost:8080/"
        },
        "id": "m7lB5frgWnPw",
        "outputId": "9ef6c961-e78e-4070-83fd-264ef2c028f5"
      },
      "execution_count": 129,
      "outputs": [
        {
          "output_type": "execute_result",
          "data": {
            "text/plain": [
              "0.6527083420329944"
            ]
          },
          "metadata": {},
          "execution_count": 129
        }
      ]
    },
    {
      "cell_type": "code",
      "source": [
        "mean_squared_error(y_test, y_preds_2) "
      ],
      "metadata": {
        "colab": {
          "base_uri": "https://localhost:8080/"
        },
        "id": "-9DlGb8OeqMF",
        "outputId": "776131d4-4867-44be-d878-12bd94d95b14"
      },
      "execution_count": 130,
      "outputs": [
        {
          "output_type": "execute_result",
          "data": {
            "text/plain": [
              "0.737961673041615"
            ]
          },
          "metadata": {},
          "execution_count": 130
        }
      ]
    },
    {
      "cell_type": "code",
      "source": [
        "mean_squared_error(y_test, y_preds_2, squared=False) "
      ],
      "metadata": {
        "colab": {
          "base_uri": "https://localhost:8080/"
        },
        "id": "cSGDnMNFWnNF",
        "outputId": "7b8ae5b5-ae93-4377-c9f1-51e0dc07be42"
      },
      "execution_count": 131,
      "outputs": [
        {
          "output_type": "execute_result",
          "data": {
            "text/plain": [
              "0.8590469562495493"
            ]
          },
          "metadata": {},
          "execution_count": 131
        }
      ]
    },
    {
      "cell_type": "markdown",
      "source": [
        "С дефолтным Alpha:\n",
        "\n",
        "0.4884393707190119\n",
        "\n",
        "0.4680851794091884\n",
        "\n",
        "0.6841675082968998\n",
        "\n",
        "С Alpha = 50:\n",
        "\n",
        "0.48938148827901207\n",
        "\n",
        "0.47286345615287706\n",
        "\n",
        "0.6876506788718215\n",
        "\n",
        "С удалением колонок 'runtime' и 'year':\n",
        "\n",
        "0.5035001130914656\n",
        "\n",
        "0.4859694234632252\n",
        "\n",
        "0.6971150718950389\n",
        "\n",
        "С удалением 'v4', 'v5':\n",
        "\n",
        "0.5036599748546738\n",
        "\n",
        "0.4862129011709035\n",
        "\n",
        "0.6972896823924067\n",
        "\n",
        "С удалением 'Metascore':\n",
        "\n",
        "0.6515758220205519\n",
        "\n",
        "0.7352336456784185\n",
        "\n",
        "0.8574576640735206\n",
        "\n",
        "С возвращением 'v4', 'v5':\n",
        "\n",
        "0.6527083420329944\n",
        "\n",
        "0.737961673041615\n",
        "\n",
        "0.8590469562495493"
      ],
      "metadata": {
        "id": "2EPERbJgfdp3"
      }
    },
    {
      "cell_type": "markdown",
      "source": [
        "Lasso"
      ],
      "metadata": {
        "id": "Rc-6i2rwexBY"
      }
    },
    {
      "cell_type": "code",
      "source": [
        "regressor_3 = Lasso() \n",
        "regressor_3.fit(X_train, y_train)\n",
        "y_preds_3 = regressor_3.predict(X_test)"
      ],
      "metadata": {
        "id": "f8H9cjcCeyET"
      },
      "execution_count": 132,
      "outputs": []
    },
    {
      "cell_type": "code",
      "source": [
        "mean_absolute_error(y_test, y_preds_3) "
      ],
      "metadata": {
        "colab": {
          "base_uri": "https://localhost:8080/"
        },
        "id": "XtWDfsnteyob",
        "outputId": "7d5c4169-8a0d-4f2f-bc09-463066a62063"
      },
      "execution_count": 133,
      "outputs": [
        {
          "output_type": "execute_result",
          "data": {
            "text/plain": [
              "0.7736000000000001"
            ]
          },
          "metadata": {},
          "execution_count": 133
        }
      ]
    },
    {
      "cell_type": "code",
      "source": [
        "mean_squared_error(y_test, y_preds_3) "
      ],
      "metadata": {
        "colab": {
          "base_uri": "https://localhost:8080/"
        },
        "id": "KRkdcHC-eyhQ",
        "outputId": "27d0af6f-bfdf-4de0-fce2-71fea9d773be"
      },
      "execution_count": 134,
      "outputs": [
        {
          "output_type": "execute_result",
          "data": {
            "text/plain": [
              "0.9734313244444442"
            ]
          },
          "metadata": {},
          "execution_count": 134
        }
      ]
    },
    {
      "cell_type": "code",
      "source": [
        "mean_squared_error(y_test, y_preds_3, squared=False) "
      ],
      "metadata": {
        "colab": {
          "base_uri": "https://localhost:8080/"
        },
        "id": "QVPJytRieyad",
        "outputId": "b35c4057-05da-4ef6-eb25-a15dc2d05a3f"
      },
      "execution_count": 135,
      "outputs": [
        {
          "output_type": "execute_result",
          "data": {
            "text/plain": [
              "0.9866262334057636"
            ]
          },
          "metadata": {},
          "execution_count": 135
        }
      ]
    },
    {
      "cell_type": "markdown",
      "source": [
        "С дефолтным Alpha:\n",
        "\n",
        "0.7736000000000001\n",
        "\n",
        "0.9734313244444442\n",
        "\n",
        "0.9866262334057636\n",
        "\n",
        "При изменении Alpha, как ни странно, результаты оценки не меняются\n",
        "\n",
        "С удалением колонок тоже ничего не меняется"
      ],
      "metadata": {
        "id": "ABqrvZxwfPpY"
      }
    },
    {
      "cell_type": "markdown",
      "source": [
        "-----------------------------------------------------------------\n",
        "\n",
        "Я думаю, что провела достаточно экспериментов, чтобы делать выводы. \n",
        "\n",
        "Во-первых, всегда лучше работать с данными, которые хорошо почищены. Поэтому важно было удалить пунктуацию и токенизировать при помощи библиотеки для работы с текстами. \n",
        "\n",
        "Во-вторых, настройки alpha в данном случае не повлияли на результаты оценки критически. Сразу можно отметить модель Lasso, которая, видимо, уже при дефолтных настройках  достигла таких оценок, которые было не \"перебить\". И эти значения остались самыми высокими для всех попробованных моделей.\n",
        "\n",
        "Изменение состава датасета для модели сильно повлияло на оценки работы Linear Regression и Ridge. Общий вывод - чем меньше колонок со всякими оценками мы включаем, тем лучше работает модель. Оставив только Votes, Revenue и векторы, я получила лучшие оценки для двух первых моделей. Причем удаление части векторов или возвращение их назад на оценку влияют слабо. В целом можно сказать, что при наличии совсем небольшого количества параметров, модель лучше предсказывает зависимость. \n",
        "\n",
        "При такой работе с параметрами получается, что оценка обычной LinearRegression находится очень рядом с оценкой Ridge. "
      ],
      "metadata": {
        "id": "RiT9dy2uop-h"
      }
    }
  ]
}